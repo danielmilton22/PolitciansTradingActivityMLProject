{
 "cells": [
  {
   "cell_type": "markdown",
   "metadata": {},
   "source": [
    "# An Analysis of US House of Representatives Trading Activity\n",
    "\n",
    "### By: Daniel Milton"
   ]
  },
  {
   "cell_type": "markdown",
   "metadata": {},
   "source": [
    "## Summary of Findings\n",
    "\n",
    "### Introduction\n",
    "Here we will be diving into the current (117th) House of Representatives stock trades for the past two years. With help from the dataset provided by Timothy Carambat (https://housestockwatcher.com/api), the question I'm exploring is whether political parties in the House of Representatives have different or similiar trading activities. The dataset provides information such as the timeline of the transaction, ownership type, purchase type, and other details on the transaction. A key element missing from this dataset however, is each politicians political party which is essential in answering my question. In the following steps, I will be dissecting and analyzing my data to answer the question of whether there is a difference in stock trading behavior between political parties. I will use several exploratory data analysis methods to gauge and help answer my question.\n",
    "\n",
    "### Cleaning and EDA\n",
    "Cleaning:\n",
    "\n",
    "Cleaning the data involved several steps. I first began by doing basic things such as converting the purchase/sold dates to pd.datetime. I then filled in all string values of '--' to np.NaN, which indicates a missing value. After this, I began the long process of matching every name in the House of Represenatives to their respective parties. I first began by getting the 116th house of representatives dataset from Kaggle. (https://www.kaggle.com/datasets/aavigan/house-of-representatives-congress-116) I could not find the 117th dataset in a clean csv so I started with this first to see how many matches I could get. I cleaned the names in the new data file using the name_cleaner function and I used a left merge with the original stock dataframe and the newly downloaded dataframe. I could see that many of the names were still returning null values for their parties so I went to look for more data. I then found the wiki page of the 117th House of Representatives (https://en.wikipedia.org/wiki/List_of_current_members_of_the_United_States_House_of_Representatives) and scraped its data into a dataframe. I then used a second merge and most of the remaining null parties were filled in. With the remaining names, I used a dictionary and a map function to fill them out.\n",
    "\n",
    "EDA:\n",
    "\n",
    "I first used univariate analysis to decipher political party purchasing activity. Here it appears that Democrats tend to make more stock trades, but at a lower average cost, while Republicans make fewer stock trades, but at a higher average cost. I then did a bivariate analysis to create a pivot table to analyze the relationship between political party and transaction ownership status, and found that Democrats are much more likely to purchase stock in their own name (0.785331 frequency) while Republicans are more likely to purchase stock in a dependents name (0.554974 frequency). I followed this up by creating a scatter plot between purchase amount and its type and found that purchases categorized as exchanges are usually costing the least. I finally finished my EDA by finding some aggregate statistics by grouping the party column with the amount column and finding the mean to return a table of the average stock purchase amount. Republicans had a mean purchase size of \\\\$40,233, while Democrats had a mean purchase size of \\\\$23,783. This told me clearly that Republicans tended to make bigger stock purchases. I found another statistic when I used groupby again and performed a sum on it and found that Democrats make the most stock purchases. Democrats made 9106 transactions, while Republicans made 5114 transactions.\n",
    "\n",
    "### Assessment of Missingness\n",
    "After looking at the newly cleaned dataframe, I found out that the column 'owner' contains the most missing values at 6669. The ticker column also has 1147 missing values, but we can count this as trivial since a quick look at the data shows that not all purchases are public companies with stock tickers. The question to ask was whether the missing values in the Owner column where NMAR or MAR. To find this out I created a permutation test to see whether the Owner column's missing values depended on other columns. I used the purmutation test on the columns: cap_gains_over_200_usd, amount, and type. I got p-values of: 0.00, 0.008, 0.00 respectively. With these values, we can reject the null in every case and accept the alternative that yes, whether the Owner values are null or not, are significantly dependent on these columns.\n",
    "\n",
    "This doesn't affect our ability to answer the question we are trying to answer, since we are mostly looking at the relationships between politial party and transaction activity.\n",
    "\n",
    "### Hypothesis Test\n",
    "The question I decided to do a hypothesis test on was to confirm whether Republicans made bigger transactions on average than Democrats. \n",
    "\n",
    "#### Null hypothesis: Republican Mean Trade <= Democrat Mean Trade\n",
    "\n",
    "#### Alternative hypothesis: Republican Mean Trade > Democrat Mean Trade\n",
    "\n",
    "#### Test statistic: Difference in means\n",
    "\n",
    "#### Significance Level: .05 \n",
    "\n",
    "I chose this test statistic because a difference in means would be the best indicator to help us decipher whether there is a significant difference between size of trades among political parties. I then performed a permutation test on the 'party' and 'amount' columns, simulated 500 times to receive a P-Value of .002. Since the P-Value < Significance Level, we can reject the null and accept the alternative that Republicans do on average, make larger transactions than Democrats"
   ]
  },
  {
   "cell_type": "markdown",
   "metadata": {},
   "source": [
    "## Code and Imports"
   ]
  },
  {
   "cell_type": "code",
   "execution_count": 1,
   "metadata": {
    "ExecuteTime": {
     "end_time": "2019-10-31T23:36:28.652554Z",
     "start_time": "2019-10-31T23:36:27.180520Z"
    }
   },
   "outputs": [],
   "source": [
    "import matplotlib.pyplot as plt\n",
    "import numpy as np\n",
    "import os\n",
    "import pandas as pd\n",
    "import seaborn as sns\n",
    "import requests\n",
    "import lxml\n",
    "import bs4"
   ]
  },
  {
   "cell_type": "markdown",
   "metadata": {},
   "source": [
    "## Cleaning and EDA"
   ]
  },
  {
   "cell_type": "markdown",
   "metadata": {},
   "source": [
    "### Loading in data"
   ]
  },
  {
   "cell_type": "code",
   "execution_count": 2,
   "metadata": {
    "ExecuteTime": {
     "end_time": "2019-10-31T23:36:28.657068Z",
     "start_time": "2019-10-31T23:36:28.654650Z"
    }
   },
   "outputs": [
    {
     "data": {
      "text/html": [
       "<div>\n",
       "<style scoped>\n",
       "    .dataframe tbody tr th:only-of-type {\n",
       "        vertical-align: middle;\n",
       "    }\n",
       "\n",
       "    .dataframe tbody tr th {\n",
       "        vertical-align: top;\n",
       "    }\n",
       "\n",
       "    .dataframe thead th {\n",
       "        text-align: right;\n",
       "    }\n",
       "</style>\n",
       "<table border=\"1\" class=\"dataframe\">\n",
       "  <thead>\n",
       "    <tr style=\"text-align: right;\">\n",
       "      <th></th>\n",
       "      <th>name_id</th>\n",
       "      <th>name</th>\n",
       "      <th>state</th>\n",
       "      <th>url</th>\n",
       "      <th>chamber</th>\n",
       "      <th>current_party</th>\n",
       "      <th>committee_assignments</th>\n",
       "    </tr>\n",
       "  </thead>\n",
       "  <tbody>\n",
       "    <tr>\n",
       "      <th>0</th>\n",
       "      <td>A000374</td>\n",
       "      <td>ralph-abraham</td>\n",
       "      <td>Louisiana</td>\n",
       "      <td>https://www.congress.gov/member/ralph-abraham/...</td>\n",
       "      <td>House</td>\n",
       "      <td>Republican</td>\n",
       "      <td>['Agriculture', 'Armed Services']</td>\n",
       "    </tr>\n",
       "    <tr>\n",
       "      <th>1</th>\n",
       "      <td>A000370</td>\n",
       "      <td>alma-adams</td>\n",
       "      <td>North Carolina</td>\n",
       "      <td>https://www.congress.gov/member/alma-adams/A00...</td>\n",
       "      <td>House</td>\n",
       "      <td>Democratic</td>\n",
       "      <td>['Agriculture', 'Education and Labor', 'Financ...</td>\n",
       "    </tr>\n",
       "    <tr>\n",
       "      <th>2</th>\n",
       "      <td>A000055</td>\n",
       "      <td>robert-aderholt</td>\n",
       "      <td>Alabama</td>\n",
       "      <td>https://www.congress.gov/member/robert-aderhol...</td>\n",
       "      <td>House</td>\n",
       "      <td>Republican</td>\n",
       "      <td>['Appropriations']</td>\n",
       "    </tr>\n",
       "    <tr>\n",
       "      <th>3</th>\n",
       "      <td>A000371</td>\n",
       "      <td>pete-aguilar</td>\n",
       "      <td>California</td>\n",
       "      <td>https://www.congress.gov/member/pete-aguilar/A...</td>\n",
       "      <td>House</td>\n",
       "      <td>Democratic</td>\n",
       "      <td>['Appropriations', 'House Administration']</td>\n",
       "    </tr>\n",
       "    <tr>\n",
       "      <th>4</th>\n",
       "      <td>A000372</td>\n",
       "      <td>rick-allen</td>\n",
       "      <td>Georgia</td>\n",
       "      <td>https://www.congress.gov/member/rick-allen/A00...</td>\n",
       "      <td>House</td>\n",
       "      <td>Republican</td>\n",
       "      <td>['Agriculture', 'Education and Labor']</td>\n",
       "    </tr>\n",
       "  </tbody>\n",
       "</table>\n",
       "</div>"
      ],
      "text/plain": [
       "   name_id             name           state  \\\n",
       "0  A000374    ralph-abraham       Louisiana   \n",
       "1  A000370       alma-adams  North Carolina   \n",
       "2  A000055  robert-aderholt         Alabama   \n",
       "3  A000371     pete-aguilar      California   \n",
       "4  A000372       rick-allen         Georgia   \n",
       "\n",
       "                                                 url chamber current_party  \\\n",
       "0  https://www.congress.gov/member/ralph-abraham/...   House    Republican   \n",
       "1  https://www.congress.gov/member/alma-adams/A00...   House    Democratic   \n",
       "2  https://www.congress.gov/member/robert-aderhol...   House    Republican   \n",
       "3  https://www.congress.gov/member/pete-aguilar/A...   House    Democratic   \n",
       "4  https://www.congress.gov/member/rick-allen/A00...   House    Republican   \n",
       "\n",
       "                               committee_assignments  \n",
       "0                  ['Agriculture', 'Armed Services']  \n",
       "1  ['Agriculture', 'Education and Labor', 'Financ...  \n",
       "2                                 ['Appropriations']  \n",
       "3         ['Appropriations', 'House Administration']  \n",
       "4             ['Agriculture', 'Education and Labor']  "
      ]
     },
     "execution_count": 2,
     "metadata": {},
     "output_type": "execute_result"
    }
   ],
   "source": [
    "# loading in the orginal df and the 116th house of rep. kaggle df\n",
    "# converted dates to pd.dateime and filled in '--' with np.NaN\n",
    "stocks = pd.read_csv('stocks.csv')\n",
    "partyfinder = pd.read_csv('political_party.csv')\n",
    "stocks['disclosure_date'] = pd.to_datetime(stocks['disclosure_date'])\n",
    "stocks.replace(to_replace = '--', value = np.NaN, inplace = True)\n",
    "partyfinder.head()"
   ]
  },
  {
   "cell_type": "markdown",
   "metadata": {},
   "source": [
    "### Name cleaning function I used to catch unique names and make names between two dataframes as similiar as possible in order for a clean merge to occur"
   ]
  },
  {
   "cell_type": "code",
   "execution_count": 3,
   "metadata": {},
   "outputs": [],
   "source": [
    "# This function uses .replace() and .lower() to replace\n",
    "# many of the unique values and standardize all the strings to lowercase\n",
    "# letters\n",
    "def name_cleaner(x):\n",
    "    z = x.replace('Hon. Donald Sternoff Honorable Beyer', 'Don Beyer')\n",
    "    w = z.replace('Hon. Charles J. \"Chuck\" Fleischmann', 'Chuck Fleischmann')\n",
    "    x = w.replace('Hon. Richard W. Allen', 'Rick W. Allen')\n",
    "    v = x.replace('Hon. Neal Patrick MD, Facs Dunn', 'Neal Dunn')\n",
    "    y = v.replace('Rohit', 'Ro')\n",
    "    a = y.replace('Hon. ', '')\n",
    "    b = a.replace('None ', '')\n",
    "    c = b.replace('Mr. ', '')\n",
    "    d = c.replace(' ', '-')\n",
    "    e = d.replace('Mr. ', '')\n",
    "    one = e.replace('Robert', 'Rob')\n",
    "    two = one.replace('Christopher', 'Chris')\n",
    "    three = two.replace('Daniel', 'Dan')\n",
    "    four = three.replace('Patrick', 'Pat')     \n",
    "    f = four.split('-')\n",
    "    if len(f) > 2:\n",
    "        g = '-'.join([f[0], f[2]])\n",
    "    else:\n",
    "        g = '-'.join(f)\n",
    "    return g.lower()"
   ]
  },
  {
   "cell_type": "markdown",
   "metadata": {},
   "source": [
    "### This function cleans the amount column to something I could use as numerical data"
   ]
  },
  {
   "cell_type": "code",
   "execution_count": 4,
   "metadata": {},
   "outputs": [],
   "source": [
    "# This replaces most of the strings that stop \n",
    "# the amount converting to ints, and it also splits the amount \n",
    "# range and grabs the first int in the range to be used in analysis\n",
    "def amount_cleaner(x):\n",
    "    y = x.replace('$', '')\n",
    "    a = y.replace(',', '')\n",
    "    b = a.replace(' +', '')\n",
    "    new = b.split('-')\n",
    "    if (int(new[0]) % 2) == 0:\n",
    "        return int(new[0])\n",
    "    else:\n",
    "        return int(new[0]) - 1"
   ]
  },
  {
   "cell_type": "markdown",
   "metadata": {},
   "source": [
    "### Simple function to change a string in party column to make all the party strings the same"
   ]
  },
  {
   "cell_type": "code",
   "execution_count": 5,
   "metadata": {},
   "outputs": [],
   "source": [
    "# replaces a string\n",
    "def party_cleaner(x):\n",
    "    if x == 'Democratic':\n",
    "        return 'Democrat'\n",
    "    else:\n",
    "        return x"
   ]
  },
  {
   "cell_type": "markdown",
   "metadata": {},
   "source": [
    "### Applying cleaning functions and changing column name in prepartion for first merge with Kaggle dataset"
   ]
  },
  {
   "cell_type": "code",
   "execution_count": 6,
   "metadata": {},
   "outputs": [],
   "source": [
    "# applying the name_cleaner functions and renaming columns in preparation for merge\n",
    "partyfinder['name'] = partyfinder['name'].apply(name_cleaner)\n",
    "stocks['representative'] = stocks['representative'].apply(name_cleaner)\n",
    "stocks.rename({'representative': 'name'}, axis = 1, inplace=True)"
   ]
  },
  {
   "cell_type": "markdown",
   "metadata": {},
   "source": [
    "### First left merge"
   ]
  },
  {
   "cell_type": "code",
   "execution_count": 7,
   "metadata": {},
   "outputs": [
    {
     "data": {
      "text/html": [
       "<div>\n",
       "<style scoped>\n",
       "    .dataframe tbody tr th:only-of-type {\n",
       "        vertical-align: middle;\n",
       "    }\n",
       "\n",
       "    .dataframe tbody tr th {\n",
       "        vertical-align: top;\n",
       "    }\n",
       "\n",
       "    .dataframe thead th {\n",
       "        text-align: right;\n",
       "    }\n",
       "</style>\n",
       "<table border=\"1\" class=\"dataframe\">\n",
       "  <thead>\n",
       "    <tr style=\"text-align: right;\">\n",
       "      <th></th>\n",
       "      <th>disclosure_year</th>\n",
       "      <th>disclosure_date</th>\n",
       "      <th>transaction_date</th>\n",
       "      <th>owner</th>\n",
       "      <th>ticker</th>\n",
       "      <th>asset_description</th>\n",
       "      <th>type</th>\n",
       "      <th>amount</th>\n",
       "      <th>name</th>\n",
       "      <th>district</th>\n",
       "      <th>ptr_link</th>\n",
       "      <th>cap_gains_over_200_usd</th>\n",
       "      <th>name_id</th>\n",
       "      <th>state</th>\n",
       "      <th>url</th>\n",
       "      <th>chamber</th>\n",
       "      <th>current_party</th>\n",
       "      <th>committee_assignments</th>\n",
       "    </tr>\n",
       "  </thead>\n",
       "  <tbody>\n",
       "    <tr>\n",
       "      <th>0</th>\n",
       "      <td>2021</td>\n",
       "      <td>2021-10-04</td>\n",
       "      <td>2021-09-27</td>\n",
       "      <td>joint</td>\n",
       "      <td>BP</td>\n",
       "      <td>BP plc</td>\n",
       "      <td>purchase</td>\n",
       "      <td>$1,001 - $15,000</td>\n",
       "      <td>virginia-foxx</td>\n",
       "      <td>NC05</td>\n",
       "      <td>https://disclosures-clerk.house.gov/public_dis...</td>\n",
       "      <td>False</td>\n",
       "      <td>F000450</td>\n",
       "      <td>North Carolina</td>\n",
       "      <td>https://www.congress.gov/member/virginia-foxx/...</td>\n",
       "      <td>House</td>\n",
       "      <td>Republican</td>\n",
       "      <td>['Education and Labor', 'Oversight and Reform']</td>\n",
       "    </tr>\n",
       "    <tr>\n",
       "      <th>1</th>\n",
       "      <td>2021</td>\n",
       "      <td>2021-10-04</td>\n",
       "      <td>2021-09-13</td>\n",
       "      <td>joint</td>\n",
       "      <td>XOM</td>\n",
       "      <td>Exxon Mobil Corporation</td>\n",
       "      <td>purchase</td>\n",
       "      <td>$1,001 - $15,000</td>\n",
       "      <td>virginia-foxx</td>\n",
       "      <td>NC05</td>\n",
       "      <td>https://disclosures-clerk.house.gov/public_dis...</td>\n",
       "      <td>False</td>\n",
       "      <td>F000450</td>\n",
       "      <td>North Carolina</td>\n",
       "      <td>https://www.congress.gov/member/virginia-foxx/...</td>\n",
       "      <td>House</td>\n",
       "      <td>Republican</td>\n",
       "      <td>['Education and Labor', 'Oversight and Reform']</td>\n",
       "    </tr>\n",
       "    <tr>\n",
       "      <th>2</th>\n",
       "      <td>2021</td>\n",
       "      <td>2021-10-04</td>\n",
       "      <td>2021-09-10</td>\n",
       "      <td>joint</td>\n",
       "      <td>ILPT</td>\n",
       "      <td>Industrial Logistics Properties Trust - Common...</td>\n",
       "      <td>purchase</td>\n",
       "      <td>$15,001 - $50,000</td>\n",
       "      <td>virginia-foxx</td>\n",
       "      <td>NC05</td>\n",
       "      <td>https://disclosures-clerk.house.gov/public_dis...</td>\n",
       "      <td>False</td>\n",
       "      <td>F000450</td>\n",
       "      <td>North Carolina</td>\n",
       "      <td>https://www.congress.gov/member/virginia-foxx/...</td>\n",
       "      <td>House</td>\n",
       "      <td>Republican</td>\n",
       "      <td>['Education and Labor', 'Oversight and Reform']</td>\n",
       "    </tr>\n",
       "    <tr>\n",
       "      <th>3</th>\n",
       "      <td>2021</td>\n",
       "      <td>2021-10-04</td>\n",
       "      <td>2021-09-28</td>\n",
       "      <td>joint</td>\n",
       "      <td>PM</td>\n",
       "      <td>Phillip Morris International Inc</td>\n",
       "      <td>purchase</td>\n",
       "      <td>$15,001 - $50,000</td>\n",
       "      <td>virginia-foxx</td>\n",
       "      <td>NC05</td>\n",
       "      <td>https://disclosures-clerk.house.gov/public_dis...</td>\n",
       "      <td>False</td>\n",
       "      <td>F000450</td>\n",
       "      <td>North Carolina</td>\n",
       "      <td>https://www.congress.gov/member/virginia-foxx/...</td>\n",
       "      <td>House</td>\n",
       "      <td>Republican</td>\n",
       "      <td>['Education and Labor', 'Oversight and Reform']</td>\n",
       "    </tr>\n",
       "    <tr>\n",
       "      <th>4</th>\n",
       "      <td>2021</td>\n",
       "      <td>2021-10-04</td>\n",
       "      <td>2021-09-17</td>\n",
       "      <td>self</td>\n",
       "      <td>BLK</td>\n",
       "      <td>BlackRock Inc</td>\n",
       "      <td>sale_partial</td>\n",
       "      <td>$1,001 - $15,000</td>\n",
       "      <td>alan-lowenthal</td>\n",
       "      <td>CA47</td>\n",
       "      <td>https://disclosures-clerk.house.gov/public_dis...</td>\n",
       "      <td>False</td>\n",
       "      <td>L000579</td>\n",
       "      <td>California</td>\n",
       "      <td>https://www.congress.gov/member/alan-lowenthal...</td>\n",
       "      <td>House</td>\n",
       "      <td>Democratic</td>\n",
       "      <td>['Natural Resources', 'Transportation and Infr...</td>\n",
       "    </tr>\n",
       "  </tbody>\n",
       "</table>\n",
       "</div>"
      ],
      "text/plain": [
       "   disclosure_year disclosure_date transaction_date  owner ticker  \\\n",
       "0             2021      2021-10-04       2021-09-27  joint     BP   \n",
       "1             2021      2021-10-04       2021-09-13  joint    XOM   \n",
       "2             2021      2021-10-04       2021-09-10  joint   ILPT   \n",
       "3             2021      2021-10-04       2021-09-28  joint     PM   \n",
       "4             2021      2021-10-04       2021-09-17   self    BLK   \n",
       "\n",
       "                                   asset_description          type  \\\n",
       "0                                             BP plc      purchase   \n",
       "1                            Exxon Mobil Corporation      purchase   \n",
       "2  Industrial Logistics Properties Trust - Common...      purchase   \n",
       "3                   Phillip Morris International Inc      purchase   \n",
       "4                                      BlackRock Inc  sale_partial   \n",
       "\n",
       "              amount            name district  \\\n",
       "0   $1,001 - $15,000   virginia-foxx     NC05   \n",
       "1   $1,001 - $15,000   virginia-foxx     NC05   \n",
       "2  $15,001 - $50,000   virginia-foxx     NC05   \n",
       "3  $15,001 - $50,000   virginia-foxx     NC05   \n",
       "4   $1,001 - $15,000  alan-lowenthal     CA47   \n",
       "\n",
       "                                            ptr_link  cap_gains_over_200_usd  \\\n",
       "0  https://disclosures-clerk.house.gov/public_dis...                   False   \n",
       "1  https://disclosures-clerk.house.gov/public_dis...                   False   \n",
       "2  https://disclosures-clerk.house.gov/public_dis...                   False   \n",
       "3  https://disclosures-clerk.house.gov/public_dis...                   False   \n",
       "4  https://disclosures-clerk.house.gov/public_dis...                   False   \n",
       "\n",
       "   name_id           state                                                url  \\\n",
       "0  F000450  North Carolina  https://www.congress.gov/member/virginia-foxx/...   \n",
       "1  F000450  North Carolina  https://www.congress.gov/member/virginia-foxx/...   \n",
       "2  F000450  North Carolina  https://www.congress.gov/member/virginia-foxx/...   \n",
       "3  F000450  North Carolina  https://www.congress.gov/member/virginia-foxx/...   \n",
       "4  L000579      California  https://www.congress.gov/member/alan-lowenthal...   \n",
       "\n",
       "  chamber current_party                              committee_assignments  \n",
       "0   House    Republican    ['Education and Labor', 'Oversight and Reform']  \n",
       "1   House    Republican    ['Education and Labor', 'Oversight and Reform']  \n",
       "2   House    Republican    ['Education and Labor', 'Oversight and Reform']  \n",
       "3   House    Republican    ['Education and Labor', 'Oversight and Reform']  \n",
       "4   House    Democratic  ['Natural Resources', 'Transportation and Infr...  "
      ]
     },
     "execution_count": 7,
     "metadata": {},
     "output_type": "execute_result"
    }
   ],
   "source": [
    "# merged original df and kaggle df\n",
    "merged = stocks.merge(partyfinder, on = 'name', how = 'left')\n",
    "merged.head()"
   ]
  },
  {
   "cell_type": "markdown",
   "metadata": {},
   "source": [
    "### Request to scrape Wikipedia page for more politicians political parties"
   ]
  },
  {
   "cell_type": "code",
   "execution_count": 8,
   "metadata": {},
   "outputs": [],
   "source": [
    "## requesting to scrape the wikipedia article with 117th(current) \n",
    "## house of representative members I then grabbed the table containing \n",
    "# all the names/parties\n",
    "r = requests.get('https://en.wikipedia.org/wiki/List_of_current_members_of_the_United_States_House_of_Representatives')\n",
    "soup = bs4.BeautifulSoup(r.text, features='lxml')\n",
    "links = soup.find('table', attrs ={'id':'votingmembers'})"
   ]
  },
  {
   "cell_type": "markdown",
   "metadata": {},
   "source": [
    "### This is a scraping function that returns each polticians name and their respective party"
   ]
  },
  {
   "cell_type": "code",
   "execution_count": 9,
   "metadata": {},
   "outputs": [],
   "source": [
    "# This function works by iterating through the table \n",
    "# grabbed in the links variable in the above cell and grabbing table data. \n",
    "# The reason why I used the try except code is because \n",
    "# some of the cells in the table contained different information other than\n",
    "# the politician and cause and error to be raised.\n",
    "def partyAndName(text):\n",
    "    names = []\n",
    "    party = []\n",
    "    tab = text.find_all('tr')[1:]\n",
    "    for i in tab:\n",
    "        try:\n",
    "            cells = i.find_all('td')\n",
    "            party.append(cells[2].text.strip('\\n'))\n",
    "            names.append(cells[0].text.strip('\\n').strip(' '))\n",
    "        except IndexError:\n",
    "            continue\n",
    "    return names, party"
   ]
  },
  {
   "cell_type": "markdown",
   "metadata": {},
   "source": [
    "### This code returns a new dataframe from all the data scrapped from the Wikipedia page"
   ]
  },
  {
   "cell_type": "code",
   "execution_count": 10,
   "metadata": {},
   "outputs": [
    {
     "data": {
      "text/html": [
       "<div>\n",
       "<style scoped>\n",
       "    .dataframe tbody tr th:only-of-type {\n",
       "        vertical-align: middle;\n",
       "    }\n",
       "\n",
       "    .dataframe tbody tr th {\n",
       "        vertical-align: top;\n",
       "    }\n",
       "\n",
       "    .dataframe thead th {\n",
       "        text-align: right;\n",
       "    }\n",
       "</style>\n",
       "<table border=\"1\" class=\"dataframe\">\n",
       "  <thead>\n",
       "    <tr style=\"text-align: right;\">\n",
       "      <th></th>\n",
       "      <th>name</th>\n",
       "      <th>party</th>\n",
       "    </tr>\n",
       "  </thead>\n",
       "  <tbody>\n",
       "    <tr>\n",
       "      <th>0</th>\n",
       "      <td>jerry-carl</td>\n",
       "      <td>Republican</td>\n",
       "    </tr>\n",
       "    <tr>\n",
       "      <th>1</th>\n",
       "      <td>barry-moore</td>\n",
       "      <td>Republican</td>\n",
       "    </tr>\n",
       "    <tr>\n",
       "      <th>2</th>\n",
       "      <td>mike-rogers</td>\n",
       "      <td>Republican</td>\n",
       "    </tr>\n",
       "    <tr>\n",
       "      <th>3</th>\n",
       "      <td>rob-aderholt</td>\n",
       "      <td>Republican</td>\n",
       "    </tr>\n",
       "    <tr>\n",
       "      <th>4</th>\n",
       "      <td>mo-brooks</td>\n",
       "      <td>Republican</td>\n",
       "    </tr>\n",
       "  </tbody>\n",
       "</table>\n",
       "</div>"
      ],
      "text/plain": [
       "           name       party\n",
       "0    jerry-carl  Republican\n",
       "1   barry-moore  Republican\n",
       "2   mike-rogers  Republican\n",
       "3  rob-aderholt  Republican\n",
       "4     mo-brooks  Republican"
      ]
     },
     "execution_count": 10,
     "metadata": {},
     "output_type": "execute_result"
    }
   ],
   "source": [
    "# Run the above function and create a dataframe with the newly\n",
    "# scraped data\n",
    "names, party = partyAndName(links)\n",
    "data = [names, party]\n",
    "new_df = pd.DataFrame()\n",
    "new_df['name'] = data[0]\n",
    "new_df['party'] = data[1]\n",
    "new_df['name'] = new_df['name'].apply(name_cleaner)\n",
    "new_df.head()"
   ]
  },
  {
   "cell_type": "markdown",
   "metadata": {},
   "source": [
    "### The 2nd merge and catching the rest of the unique names. I used a map function for the remaining names not found in the previous merges and simply googled their political party."
   ]
  },
  {
   "cell_type": "code",
   "execution_count": 11,
   "metadata": {},
   "outputs": [
    {
     "data": {
      "text/html": [
       "<div>\n",
       "<style scoped>\n",
       "    .dataframe tbody tr th:only-of-type {\n",
       "        vertical-align: middle;\n",
       "    }\n",
       "\n",
       "    .dataframe tbody tr th {\n",
       "        vertical-align: top;\n",
       "    }\n",
       "\n",
       "    .dataframe thead th {\n",
       "        text-align: right;\n",
       "    }\n",
       "</style>\n",
       "<table border=\"1\" class=\"dataframe\">\n",
       "  <thead>\n",
       "    <tr style=\"text-align: right;\">\n",
       "      <th></th>\n",
       "      <th>disclosure_year</th>\n",
       "      <th>disclosure_date</th>\n",
       "      <th>transaction_date</th>\n",
       "      <th>owner</th>\n",
       "      <th>ticker</th>\n",
       "      <th>asset_description</th>\n",
       "      <th>type</th>\n",
       "      <th>amount</th>\n",
       "      <th>name</th>\n",
       "      <th>district</th>\n",
       "      <th>ptr_link</th>\n",
       "      <th>cap_gains_over_200_usd</th>\n",
       "      <th>party</th>\n",
       "      <th>name_id</th>\n",
       "      <th>state</th>\n",
       "      <th>url</th>\n",
       "      <th>chamber</th>\n",
       "      <th>current_party</th>\n",
       "      <th>committee_assignments</th>\n",
       "    </tr>\n",
       "  </thead>\n",
       "  <tbody>\n",
       "    <tr>\n",
       "      <th>0</th>\n",
       "      <td>2021</td>\n",
       "      <td>2021-10-04</td>\n",
       "      <td>2021-09-27</td>\n",
       "      <td>joint</td>\n",
       "      <td>BP</td>\n",
       "      <td>BP plc</td>\n",
       "      <td>purchase</td>\n",
       "      <td>$1,001 - $15,000</td>\n",
       "      <td>virginia-foxx</td>\n",
       "      <td>NC05</td>\n",
       "      <td>https://disclosures-clerk.house.gov/public_dis...</td>\n",
       "      <td>False</td>\n",
       "      <td>Republican</td>\n",
       "      <td>F000450</td>\n",
       "      <td>North Carolina</td>\n",
       "      <td>https://www.congress.gov/member/virginia-foxx/...</td>\n",
       "      <td>House</td>\n",
       "      <td>NaN</td>\n",
       "      <td>['Education and Labor', 'Oversight and Reform']</td>\n",
       "    </tr>\n",
       "    <tr>\n",
       "      <th>1</th>\n",
       "      <td>2021</td>\n",
       "      <td>2021-10-04</td>\n",
       "      <td>2021-09-13</td>\n",
       "      <td>joint</td>\n",
       "      <td>XOM</td>\n",
       "      <td>Exxon Mobil Corporation</td>\n",
       "      <td>purchase</td>\n",
       "      <td>$1,001 - $15,000</td>\n",
       "      <td>virginia-foxx</td>\n",
       "      <td>NC05</td>\n",
       "      <td>https://disclosures-clerk.house.gov/public_dis...</td>\n",
       "      <td>False</td>\n",
       "      <td>Republican</td>\n",
       "      <td>F000450</td>\n",
       "      <td>North Carolina</td>\n",
       "      <td>https://www.congress.gov/member/virginia-foxx/...</td>\n",
       "      <td>House</td>\n",
       "      <td>NaN</td>\n",
       "      <td>['Education and Labor', 'Oversight and Reform']</td>\n",
       "    </tr>\n",
       "    <tr>\n",
       "      <th>2</th>\n",
       "      <td>2021</td>\n",
       "      <td>2021-10-04</td>\n",
       "      <td>2021-09-10</td>\n",
       "      <td>joint</td>\n",
       "      <td>ILPT</td>\n",
       "      <td>Industrial Logistics Properties Trust - Common...</td>\n",
       "      <td>purchase</td>\n",
       "      <td>$15,001 - $50,000</td>\n",
       "      <td>virginia-foxx</td>\n",
       "      <td>NC05</td>\n",
       "      <td>https://disclosures-clerk.house.gov/public_dis...</td>\n",
       "      <td>False</td>\n",
       "      <td>Republican</td>\n",
       "      <td>F000450</td>\n",
       "      <td>North Carolina</td>\n",
       "      <td>https://www.congress.gov/member/virginia-foxx/...</td>\n",
       "      <td>House</td>\n",
       "      <td>NaN</td>\n",
       "      <td>['Education and Labor', 'Oversight and Reform']</td>\n",
       "    </tr>\n",
       "    <tr>\n",
       "      <th>3</th>\n",
       "      <td>2021</td>\n",
       "      <td>2021-10-04</td>\n",
       "      <td>2021-09-28</td>\n",
       "      <td>joint</td>\n",
       "      <td>PM</td>\n",
       "      <td>Phillip Morris International Inc</td>\n",
       "      <td>purchase</td>\n",
       "      <td>$15,001 - $50,000</td>\n",
       "      <td>virginia-foxx</td>\n",
       "      <td>NC05</td>\n",
       "      <td>https://disclosures-clerk.house.gov/public_dis...</td>\n",
       "      <td>False</td>\n",
       "      <td>Republican</td>\n",
       "      <td>F000450</td>\n",
       "      <td>North Carolina</td>\n",
       "      <td>https://www.congress.gov/member/virginia-foxx/...</td>\n",
       "      <td>House</td>\n",
       "      <td>NaN</td>\n",
       "      <td>['Education and Labor', 'Oversight and Reform']</td>\n",
       "    </tr>\n",
       "    <tr>\n",
       "      <th>4</th>\n",
       "      <td>2021</td>\n",
       "      <td>2021-10-04</td>\n",
       "      <td>2021-09-17</td>\n",
       "      <td>self</td>\n",
       "      <td>BLK</td>\n",
       "      <td>BlackRock Inc</td>\n",
       "      <td>sale_partial</td>\n",
       "      <td>$1,001 - $15,000</td>\n",
       "      <td>alan-lowenthal</td>\n",
       "      <td>CA47</td>\n",
       "      <td>https://disclosures-clerk.house.gov/public_dis...</td>\n",
       "      <td>False</td>\n",
       "      <td>Democratic</td>\n",
       "      <td>L000579</td>\n",
       "      <td>California</td>\n",
       "      <td>https://www.congress.gov/member/alan-lowenthal...</td>\n",
       "      <td>House</td>\n",
       "      <td>NaN</td>\n",
       "      <td>['Natural Resources', 'Transportation and Infr...</td>\n",
       "    </tr>\n",
       "  </tbody>\n",
       "</table>\n",
       "</div>"
      ],
      "text/plain": [
       "   disclosure_year disclosure_date transaction_date  owner ticker  \\\n",
       "0             2021      2021-10-04       2021-09-27  joint     BP   \n",
       "1             2021      2021-10-04       2021-09-13  joint    XOM   \n",
       "2             2021      2021-10-04       2021-09-10  joint   ILPT   \n",
       "3             2021      2021-10-04       2021-09-28  joint     PM   \n",
       "4             2021      2021-10-04       2021-09-17   self    BLK   \n",
       "\n",
       "                                   asset_description          type  \\\n",
       "0                                             BP plc      purchase   \n",
       "1                            Exxon Mobil Corporation      purchase   \n",
       "2  Industrial Logistics Properties Trust - Common...      purchase   \n",
       "3                   Phillip Morris International Inc      purchase   \n",
       "4                                      BlackRock Inc  sale_partial   \n",
       "\n",
       "              amount            name district  \\\n",
       "0   $1,001 - $15,000   virginia-foxx     NC05   \n",
       "1   $1,001 - $15,000   virginia-foxx     NC05   \n",
       "2  $15,001 - $50,000   virginia-foxx     NC05   \n",
       "3  $15,001 - $50,000   virginia-foxx     NC05   \n",
       "4   $1,001 - $15,000  alan-lowenthal     CA47   \n",
       "\n",
       "                                            ptr_link  cap_gains_over_200_usd  \\\n",
       "0  https://disclosures-clerk.house.gov/public_dis...                   False   \n",
       "1  https://disclosures-clerk.house.gov/public_dis...                   False   \n",
       "2  https://disclosures-clerk.house.gov/public_dis...                   False   \n",
       "3  https://disclosures-clerk.house.gov/public_dis...                   False   \n",
       "4  https://disclosures-clerk.house.gov/public_dis...                   False   \n",
       "\n",
       "        party  name_id           state  \\\n",
       "0  Republican  F000450  North Carolina   \n",
       "1  Republican  F000450  North Carolina   \n",
       "2  Republican  F000450  North Carolina   \n",
       "3  Republican  F000450  North Carolina   \n",
       "4  Democratic  L000579      California   \n",
       "\n",
       "                                                 url chamber current_party  \\\n",
       "0  https://www.congress.gov/member/virginia-foxx/...   House           NaN   \n",
       "1  https://www.congress.gov/member/virginia-foxx/...   House           NaN   \n",
       "2  https://www.congress.gov/member/virginia-foxx/...   House           NaN   \n",
       "3  https://www.congress.gov/member/virginia-foxx/...   House           NaN   \n",
       "4  https://www.congress.gov/member/alan-lowenthal...   House           NaN   \n",
       "\n",
       "                               committee_assignments  \n",
       "0    ['Education and Labor', 'Oversight and Reform']  \n",
       "1    ['Education and Labor', 'Oversight and Reform']  \n",
       "2    ['Education and Labor', 'Oversight and Reform']  \n",
       "3    ['Education and Labor', 'Oversight and Reform']  \n",
       "4  ['Natural Resources', 'Transportation and Infr...  "
      ]
     },
     "execution_count": 11,
     "metadata": {},
     "output_type": "execute_result"
    }
   ],
   "source": [
    "## Here I performed the final merge and used a dictionary to map\n",
    "## all the remaining values that weren't caught in the first two merges.\n",
    "## I used google for the remaining unique names\n",
    "merged2 = stocks.merge(new_df, on = 'name', how = 'left')\n",
    "merged3 = merged2.merge(partyfinder, on = 'name', how = 'left')\n",
    "new = {'k.-conaway':'Republican', \n",
    "       'michael-garcia':'Republican',\n",
    "       'michael-gallagher':'Republican',\n",
    "      'mrs.-taylor':'Republican',\n",
    "      'james-hon':'Republican',\n",
    "      'james-banks':'Republican',\n",
    "      'nicholas-taylor':'Libertarian',\n",
    "      'rob-\"bobby\"':'Democrat',\n",
    "      'ashley-arenholz':'Republican'}\n",
    "merged3.party.fillna(merged3.current_party, inplace=True)\n",
    "merged3['current_party'] = merged3['name'].map(new)\n",
    "merged3.party.fillna(merged3.current_party, inplace=True)\n",
    "merged3 = merged3[merged3.party != 'Libertarian']\n",
    "merged3 = merged3[merged3.party != 'Independent']\n",
    "merged3.head()"
   ]
  },
  {
   "cell_type": "markdown",
   "metadata": {},
   "source": [
    "### Here I dropped all irrelevant columns that won't help answer my question"
   ]
  },
  {
   "cell_type": "code",
   "execution_count": 12,
   "metadata": {},
   "outputs": [
    {
     "data": {
      "text/html": [
       "<div>\n",
       "<style scoped>\n",
       "    .dataframe tbody tr th:only-of-type {\n",
       "        vertical-align: middle;\n",
       "    }\n",
       "\n",
       "    .dataframe tbody tr th {\n",
       "        vertical-align: top;\n",
       "    }\n",
       "\n",
       "    .dataframe thead th {\n",
       "        text-align: right;\n",
       "    }\n",
       "</style>\n",
       "<table border=\"1\" class=\"dataframe\">\n",
       "  <thead>\n",
       "    <tr style=\"text-align: right;\">\n",
       "      <th></th>\n",
       "      <th>disclosure_year</th>\n",
       "      <th>disclosure_date</th>\n",
       "      <th>transaction_date</th>\n",
       "      <th>owner</th>\n",
       "      <th>ticker</th>\n",
       "      <th>asset_description</th>\n",
       "      <th>type</th>\n",
       "      <th>amount</th>\n",
       "      <th>name</th>\n",
       "      <th>district</th>\n",
       "      <th>cap_gains_over_200_usd</th>\n",
       "      <th>party</th>\n",
       "      <th>state</th>\n",
       "    </tr>\n",
       "  </thead>\n",
       "  <tbody>\n",
       "    <tr>\n",
       "      <th>0</th>\n",
       "      <td>2021</td>\n",
       "      <td>2021-10-04</td>\n",
       "      <td>2021-09-27</td>\n",
       "      <td>joint</td>\n",
       "      <td>BP</td>\n",
       "      <td>BP plc</td>\n",
       "      <td>purchase</td>\n",
       "      <td>$1,001 - $15,000</td>\n",
       "      <td>virginia-foxx</td>\n",
       "      <td>NC05</td>\n",
       "      <td>False</td>\n",
       "      <td>Republican</td>\n",
       "      <td>North Carolina</td>\n",
       "    </tr>\n",
       "    <tr>\n",
       "      <th>1</th>\n",
       "      <td>2021</td>\n",
       "      <td>2021-10-04</td>\n",
       "      <td>2021-09-13</td>\n",
       "      <td>joint</td>\n",
       "      <td>XOM</td>\n",
       "      <td>Exxon Mobil Corporation</td>\n",
       "      <td>purchase</td>\n",
       "      <td>$1,001 - $15,000</td>\n",
       "      <td>virginia-foxx</td>\n",
       "      <td>NC05</td>\n",
       "      <td>False</td>\n",
       "      <td>Republican</td>\n",
       "      <td>North Carolina</td>\n",
       "    </tr>\n",
       "    <tr>\n",
       "      <th>2</th>\n",
       "      <td>2021</td>\n",
       "      <td>2021-10-04</td>\n",
       "      <td>2021-09-10</td>\n",
       "      <td>joint</td>\n",
       "      <td>ILPT</td>\n",
       "      <td>Industrial Logistics Properties Trust - Common...</td>\n",
       "      <td>purchase</td>\n",
       "      <td>$15,001 - $50,000</td>\n",
       "      <td>virginia-foxx</td>\n",
       "      <td>NC05</td>\n",
       "      <td>False</td>\n",
       "      <td>Republican</td>\n",
       "      <td>North Carolina</td>\n",
       "    </tr>\n",
       "    <tr>\n",
       "      <th>3</th>\n",
       "      <td>2021</td>\n",
       "      <td>2021-10-04</td>\n",
       "      <td>2021-09-28</td>\n",
       "      <td>joint</td>\n",
       "      <td>PM</td>\n",
       "      <td>Phillip Morris International Inc</td>\n",
       "      <td>purchase</td>\n",
       "      <td>$15,001 - $50,000</td>\n",
       "      <td>virginia-foxx</td>\n",
       "      <td>NC05</td>\n",
       "      <td>False</td>\n",
       "      <td>Republican</td>\n",
       "      <td>North Carolina</td>\n",
       "    </tr>\n",
       "    <tr>\n",
       "      <th>4</th>\n",
       "      <td>2021</td>\n",
       "      <td>2021-10-04</td>\n",
       "      <td>2021-09-17</td>\n",
       "      <td>self</td>\n",
       "      <td>BLK</td>\n",
       "      <td>BlackRock Inc</td>\n",
       "      <td>sale_partial</td>\n",
       "      <td>$1,001 - $15,000</td>\n",
       "      <td>alan-lowenthal</td>\n",
       "      <td>CA47</td>\n",
       "      <td>False</td>\n",
       "      <td>Democratic</td>\n",
       "      <td>California</td>\n",
       "    </tr>\n",
       "  </tbody>\n",
       "</table>\n",
       "</div>"
      ],
      "text/plain": [
       "   disclosure_year disclosure_date transaction_date  owner ticker  \\\n",
       "0             2021      2021-10-04       2021-09-27  joint     BP   \n",
       "1             2021      2021-10-04       2021-09-13  joint    XOM   \n",
       "2             2021      2021-10-04       2021-09-10  joint   ILPT   \n",
       "3             2021      2021-10-04       2021-09-28  joint     PM   \n",
       "4             2021      2021-10-04       2021-09-17   self    BLK   \n",
       "\n",
       "                                   asset_description          type  \\\n",
       "0                                             BP plc      purchase   \n",
       "1                            Exxon Mobil Corporation      purchase   \n",
       "2  Industrial Logistics Properties Trust - Common...      purchase   \n",
       "3                   Phillip Morris International Inc      purchase   \n",
       "4                                      BlackRock Inc  sale_partial   \n",
       "\n",
       "              amount            name district  cap_gains_over_200_usd  \\\n",
       "0   $1,001 - $15,000   virginia-foxx     NC05                   False   \n",
       "1   $1,001 - $15,000   virginia-foxx     NC05                   False   \n",
       "2  $15,001 - $50,000   virginia-foxx     NC05                   False   \n",
       "3  $15,001 - $50,000   virginia-foxx     NC05                   False   \n",
       "4   $1,001 - $15,000  alan-lowenthal     CA47                   False   \n",
       "\n",
       "        party           state  \n",
       "0  Republican  North Carolina  \n",
       "1  Republican  North Carolina  \n",
       "2  Republican  North Carolina  \n",
       "3  Republican  North Carolina  \n",
       "4  Democratic      California  "
      ]
     },
     "execution_count": 12,
     "metadata": {},
     "output_type": "execute_result"
    }
   ],
   "source": [
    "merged3.drop(columns=['name_id', 'ptr_link', 'url', 'chamber', \\\n",
    "                      'current_party', 'committee_assignments'], inplace = True)\n",
    "merged3.head()"
   ]
  },
  {
   "cell_type": "markdown",
   "metadata": {},
   "source": [
    "### One final clean to make sure I catch all non-wanted data forms"
   ]
  },
  {
   "cell_type": "code",
   "execution_count": 13,
   "metadata": {
    "scrolled": true
   },
   "outputs": [
    {
     "data": {
      "text/html": [
       "<div>\n",
       "<style scoped>\n",
       "    .dataframe tbody tr th:only-of-type {\n",
       "        vertical-align: middle;\n",
       "    }\n",
       "\n",
       "    .dataframe tbody tr th {\n",
       "        vertical-align: top;\n",
       "    }\n",
       "\n",
       "    .dataframe thead th {\n",
       "        text-align: right;\n",
       "    }\n",
       "</style>\n",
       "<table border=\"1\" class=\"dataframe\">\n",
       "  <thead>\n",
       "    <tr style=\"text-align: right;\">\n",
       "      <th></th>\n",
       "      <th>disclosure_year</th>\n",
       "      <th>disclosure_date</th>\n",
       "      <th>transaction_date</th>\n",
       "      <th>owner</th>\n",
       "      <th>ticker</th>\n",
       "      <th>asset_description</th>\n",
       "      <th>type</th>\n",
       "      <th>amount</th>\n",
       "      <th>name</th>\n",
       "      <th>district</th>\n",
       "      <th>cap_gains_over_200_usd</th>\n",
       "      <th>party</th>\n",
       "      <th>state</th>\n",
       "    </tr>\n",
       "  </thead>\n",
       "  <tbody>\n",
       "    <tr>\n",
       "      <th>0</th>\n",
       "      <td>2021</td>\n",
       "      <td>2021-10-04</td>\n",
       "      <td>2021-09-27</td>\n",
       "      <td>joint</td>\n",
       "      <td>BP</td>\n",
       "      <td>BP plc</td>\n",
       "      <td>purchase</td>\n",
       "      <td>1000</td>\n",
       "      <td>virginia-foxx</td>\n",
       "      <td>NC05</td>\n",
       "      <td>False</td>\n",
       "      <td>Republican</td>\n",
       "      <td>North Carolina</td>\n",
       "    </tr>\n",
       "    <tr>\n",
       "      <th>1</th>\n",
       "      <td>2021</td>\n",
       "      <td>2021-10-04</td>\n",
       "      <td>2021-09-13</td>\n",
       "      <td>joint</td>\n",
       "      <td>XOM</td>\n",
       "      <td>Exxon Mobil Corporation</td>\n",
       "      <td>purchase</td>\n",
       "      <td>1000</td>\n",
       "      <td>virginia-foxx</td>\n",
       "      <td>NC05</td>\n",
       "      <td>False</td>\n",
       "      <td>Republican</td>\n",
       "      <td>North Carolina</td>\n",
       "    </tr>\n",
       "    <tr>\n",
       "      <th>2</th>\n",
       "      <td>2021</td>\n",
       "      <td>2021-10-04</td>\n",
       "      <td>2021-09-10</td>\n",
       "      <td>joint</td>\n",
       "      <td>ILPT</td>\n",
       "      <td>Industrial Logistics Properties Trust - Common...</td>\n",
       "      <td>purchase</td>\n",
       "      <td>15000</td>\n",
       "      <td>virginia-foxx</td>\n",
       "      <td>NC05</td>\n",
       "      <td>False</td>\n",
       "      <td>Republican</td>\n",
       "      <td>North Carolina</td>\n",
       "    </tr>\n",
       "    <tr>\n",
       "      <th>3</th>\n",
       "      <td>2021</td>\n",
       "      <td>2021-10-04</td>\n",
       "      <td>2021-09-28</td>\n",
       "      <td>joint</td>\n",
       "      <td>PM</td>\n",
       "      <td>Phillip Morris International Inc</td>\n",
       "      <td>purchase</td>\n",
       "      <td>15000</td>\n",
       "      <td>virginia-foxx</td>\n",
       "      <td>NC05</td>\n",
       "      <td>False</td>\n",
       "      <td>Republican</td>\n",
       "      <td>North Carolina</td>\n",
       "    </tr>\n",
       "    <tr>\n",
       "      <th>4</th>\n",
       "      <td>2021</td>\n",
       "      <td>2021-10-04</td>\n",
       "      <td>2021-09-17</td>\n",
       "      <td>self</td>\n",
       "      <td>BLK</td>\n",
       "      <td>BlackRock Inc</td>\n",
       "      <td>sale_partial</td>\n",
       "      <td>1000</td>\n",
       "      <td>alan-lowenthal</td>\n",
       "      <td>CA47</td>\n",
       "      <td>False</td>\n",
       "      <td>Democrat</td>\n",
       "      <td>California</td>\n",
       "    </tr>\n",
       "  </tbody>\n",
       "</table>\n",
       "</div>"
      ],
      "text/plain": [
       "   disclosure_year disclosure_date transaction_date  owner ticker  \\\n",
       "0             2021      2021-10-04       2021-09-27  joint     BP   \n",
       "1             2021      2021-10-04       2021-09-13  joint    XOM   \n",
       "2             2021      2021-10-04       2021-09-10  joint   ILPT   \n",
       "3             2021      2021-10-04       2021-09-28  joint     PM   \n",
       "4             2021      2021-10-04       2021-09-17   self    BLK   \n",
       "\n",
       "                                   asset_description          type  amount  \\\n",
       "0                                             BP plc      purchase    1000   \n",
       "1                            Exxon Mobil Corporation      purchase    1000   \n",
       "2  Industrial Logistics Properties Trust - Common...      purchase   15000   \n",
       "3                   Phillip Morris International Inc      purchase   15000   \n",
       "4                                      BlackRock Inc  sale_partial    1000   \n",
       "\n",
       "             name district  cap_gains_over_200_usd       party           state  \n",
       "0   virginia-foxx     NC05                   False  Republican  North Carolina  \n",
       "1   virginia-foxx     NC05                   False  Republican  North Carolina  \n",
       "2   virginia-foxx     NC05                   False  Republican  North Carolina  \n",
       "3   virginia-foxx     NC05                   False  Republican  North Carolina  \n",
       "4  alan-lowenthal     CA47                   False    Democrat      California  "
      ]
     },
     "execution_count": 13,
     "metadata": {},
     "output_type": "execute_result"
    }
   ],
   "source": [
    "merged3['amount'] = merged3['amount'].apply(amount_cleaner)\n",
    "merged3['party'] = merged3['party'].apply(party_cleaner)\n",
    "merged3.head()"
   ]
  },
  {
   "cell_type": "markdown",
   "metadata": {},
   "source": [
    "### Republican Purchases (Univariate Analysis)"
   ]
  },
  {
   "cell_type": "code",
   "execution_count": 14,
   "metadata": {},
   "outputs": [
    {
     "name": "stderr",
     "output_type": "stream",
     "text": [
      "<ipython-input-14-9e138796626c>:6: SettingWithCopyWarning: \n",
      "A value is trying to be set on a copy of a slice from a DataFrame.\n",
      "Try using .loc[row_indexer,col_indexer] = value instead\n",
      "\n",
      "See the caveats in the documentation: https://pandas.pydata.org/pandas-docs/stable/user_guide/indexing.html#returning-a-view-versus-a-copy\n",
      "  republicans['add'] = ones\n"
     ]
    },
    {
     "data": {
      "text/plain": [
       "Text(0.5, 0, 'Amount ($)')"
      ]
     },
     "execution_count": 14,
     "metadata": {},
     "output_type": "execute_result"
    },
    {
     "data": {
      "image/png": "[encoded data removed]",
      "text/plain": [
       "<Figure size 432x288 with 1 Axes>"
      ]
     },
     "metadata": {
      "needs_background": "light"
     },
     "output_type": "display_data"
    }
   ],
   "source": [
    "## Here I filtered the dataframe to only have Republican politicians and I then\n",
    "# made an array of ones, so I had a way of adding up the \n",
    "# frequency of each purchase amount. I then plotted\n",
    "republicans = merged3[merged3['party'] == 'Republican']\n",
    "ones = np.ones(len(republicans))\n",
    "republicans['add'] = ones\n",
    "ax = republicans.groupby('amount')['add'].sum()[:-3].plot(x = 'amount', \\\n",
    "                                        title='Republican Purchase Amount')\n",
    "ax.set_ylabel('Purchases')\n",
    "ax.set_xlabel('Amount ($)')"
   ]
  },
  {
   "cell_type": "markdown",
   "metadata": {},
   "source": [
    "### Democrat Purchases (Univariate Analysis)"
   ]
  },
  {
   "cell_type": "code",
   "execution_count": 15,
   "metadata": {},
   "outputs": [
    {
     "name": "stderr",
     "output_type": "stream",
     "text": [
      "<ipython-input-15-60e7ba6fa72a>:6: SettingWithCopyWarning: \n",
      "A value is trying to be set on a copy of a slice from a DataFrame.\n",
      "Try using .loc[row_indexer,col_indexer] = value instead\n",
      "\n",
      "See the caveats in the documentation: https://pandas.pydata.org/pandas-docs/stable/user_guide/indexing.html#returning-a-view-versus-a-copy\n",
      "  democrats['add'] = ones\n"
     ]
    },
    {
     "data": {
      "text/plain": [
       "Text(0.5, 0, 'Amount ($)')"
      ]
     },
     "execution_count": 15,
     "metadata": {},
     "output_type": "execute_result"
    },
    {
     "data": {
      "image/png": "[encoded data removed]",
      "text/plain": [
       "<Figure size 432x288 with 1 Axes>"
      ]
     },
     "metadata": {
      "needs_background": "light"
     },
     "output_type": "display_data"
    }
   ],
   "source": [
    "## Here I filtered the dataframe to only have Democrat politicians and I then\n",
    "# made an array of ones, so I had a way of adding up the \n",
    "# frequency of each purchase amount. I then plotted\n",
    "democrats = merged3[merged3['party'] == 'Democrat']\n",
    "ones = np.ones(len(democrats))\n",
    "democrats['add'] = ones\n",
    "ax = democrats.groupby('amount')['add'].sum()[:-2].plot(x = 'amount', \\\n",
    "                                        title='Democrat Purchase Amount')\n",
    "ax.set_ylabel('Purchases')\n",
    "ax.set_xlabel('Amount ($)')"
   ]
  },
  {
   "cell_type": "markdown",
   "metadata": {},
   "source": [
    "### Bivariate Analysis"
   ]
  },
  {
   "cell_type": "code",
   "execution_count": 16,
   "metadata": {},
   "outputs": [
    {
     "data": {
      "text/html": [
       "<div>\n",
       "<style scoped>\n",
       "    .dataframe tbody tr th:only-of-type {\n",
       "        vertical-align: middle;\n",
       "    }\n",
       "\n",
       "    .dataframe tbody tr th {\n",
       "        vertical-align: top;\n",
       "    }\n",
       "\n",
       "    .dataframe thead th {\n",
       "        text-align: right;\n",
       "    }\n",
       "</style>\n",
       "<table border=\"1\" class=\"dataframe\">\n",
       "  <thead>\n",
       "    <tr style=\"text-align: right;\">\n",
       "      <th>owner</th>\n",
       "      <th>dependent</th>\n",
       "      <th>joint</th>\n",
       "      <th>self</th>\n",
       "    </tr>\n",
       "    <tr>\n",
       "      <th>party</th>\n",
       "      <th></th>\n",
       "      <th></th>\n",
       "      <th></th>\n",
       "    </tr>\n",
       "  </thead>\n",
       "  <tbody>\n",
       "    <tr>\n",
       "      <th>Democrat</th>\n",
       "      <td>0.445026</td>\n",
       "      <td>0.6301</td>\n",
       "      <td>0.785331</td>\n",
       "    </tr>\n",
       "    <tr>\n",
       "      <th>Republican</th>\n",
       "      <td>0.554974</td>\n",
       "      <td>0.3699</td>\n",
       "      <td>0.214669</td>\n",
       "    </tr>\n",
       "  </tbody>\n",
       "</table>\n",
       "</div>"
      ],
      "text/plain": [
       "owner       dependent   joint      self\n",
       "party                                  \n",
       "Democrat     0.445026  0.6301  0.785331\n",
       "Republican   0.554974  0.3699  0.214669"
      ]
     },
     "execution_count": 16,
     "metadata": {},
     "output_type": "execute_result"
    }
   ],
   "source": [
    "# Here I created a pivot table to see the relationship between party and \n",
    "# ownership status of a stock transaction\n",
    "pivot = (\n",
    "   merged3\n",
    "    .pivot_table(index='party', columns='owner', values=None, \\\n",
    "                 aggfunc='size')\n",
    "    .fillna(0)\n",
    "    .apply(lambda x: x / x.sum())\n",
    ")\n",
    "pivot"
   ]
  },
  {
   "cell_type": "markdown",
   "metadata": {},
   "source": [
    "### Creating a scatterplot to see the relationship between purchase amount, and type of purchase"
   ]
  },
  {
   "cell_type": "code",
   "execution_count": 17,
   "metadata": {},
   "outputs": [
    {
     "data": {
      "text/plain": [
       "<AxesSubplot:title={'center':'Democrat Purchase Amount'}, xlabel='amount', ylabel='type'>"
      ]
     },
     "execution_count": 17,
     "metadata": {},
     "output_type": "execute_result"
    },
    {
     "data": {
      "image/png": "[encoded data removed]",
      "text/plain": [
       "<Figure size 432x288 with 1 Axes>"
      ]
     },
     "metadata": {
      "needs_background": "light"
     },
     "output_type": "display_data"
    }
   ],
   "source": [
    "# Creating a scatter plot between amount and type\n",
    "merged3.plot(kind='scatter', x='amount', y='type', \\\n",
    "             title='Democrat Purchase Amount')"
   ]
  },
  {
   "cell_type": "markdown",
   "metadata": {},
   "source": [
    "### Which party makes bigger purchases? (Aggregate Statistics)"
   ]
  },
  {
   "cell_type": "code",
   "execution_count": 18,
   "metadata": {},
   "outputs": [],
   "source": [
    "# I used the groupby function to group all the parties together, \n",
    "# and find their respective mean stock purchase amount.\n",
    "new_col = np.ones(len(merged3))\n",
    "merged3['add'] = new_col\n",
    "purchase_size = merged3.groupby('party')['amount'].mean()\n",
    "purchase_size.drop(columns=['disclosure_year', 'cap_gains_over_200_usd'], \\\n",
    "                   inplace = True)"
   ]
  },
  {
   "cell_type": "code",
   "execution_count": 19,
   "metadata": {},
   "outputs": [
    {
     "data": {
      "text/plain": [
       "party\n",
       "Democrat      23783.329673\n",
       "Republican    40233.085647\n",
       "Name: amount, dtype: float64"
      ]
     },
     "execution_count": 19,
     "metadata": {},
     "output_type": "execute_result"
    }
   ],
   "source": [
    "purchase_size"
   ]
  },
  {
   "cell_type": "markdown",
   "metadata": {},
   "source": [
    "### Which party makes more purchases overall? (Aggregate Statistics)"
   ]
  },
  {
   "cell_type": "code",
   "execution_count": 20,
   "metadata": {},
   "outputs": [
    {
     "data": {
      "text/html": [
       "<div>\n",
       "<style scoped>\n",
       "    .dataframe tbody tr th:only-of-type {\n",
       "        vertical-align: middle;\n",
       "    }\n",
       "\n",
       "    .dataframe tbody tr th {\n",
       "        vertical-align: top;\n",
       "    }\n",
       "\n",
       "    .dataframe thead th {\n",
       "        text-align: right;\n",
       "    }\n",
       "</style>\n",
       "<table border=\"1\" class=\"dataframe\">\n",
       "  <thead>\n",
       "    <tr style=\"text-align: right;\">\n",
       "      <th></th>\n",
       "      <th>add</th>\n",
       "    </tr>\n",
       "    <tr>\n",
       "      <th>party</th>\n",
       "      <th></th>\n",
       "    </tr>\n",
       "  </thead>\n",
       "  <tbody>\n",
       "    <tr>\n",
       "      <th>Democrat</th>\n",
       "      <td>9106.0</td>\n",
       "    </tr>\n",
       "    <tr>\n",
       "      <th>Republican</th>\n",
       "      <td>5114.0</td>\n",
       "    </tr>\n",
       "  </tbody>\n",
       "</table>\n",
       "</div>"
      ],
      "text/plain": [
       "               add\n",
       "party             \n",
       "Democrat    9106.0\n",
       "Republican  5114.0"
      ]
     },
     "execution_count": 20,
     "metadata": {},
     "output_type": "execute_result"
    }
   ],
   "source": [
    "overall_size = merged3.groupby(['party', 'amount']).sum()\n",
    "overall_size.drop(columns=['disclosure_year', 'cap_gains_over_200_usd'], \\\n",
    "                  inplace = True)\n",
    "overall_size.groupby('party').sum()"
   ]
  },
  {
   "cell_type": "markdown",
   "metadata": {},
   "source": [
    "## Assessment of Missingness"
   ]
  },
  {
   "cell_type": "markdown",
   "metadata": {},
   "source": [
    "### I first started by counting the null values in the data frame"
   ]
  },
  {
   "cell_type": "code",
   "execution_count": 21,
   "metadata": {
    "ExecuteTime": {
     "end_time": "2019-10-31T23:36:28.662099Z",
     "start_time": "2019-10-31T23:36:28.660016Z"
    }
   },
   "outputs": [
    {
     "data": {
      "text/plain": [
       "disclosure_year              0\n",
       "disclosure_date              0\n",
       "transaction_date             0\n",
       "owner                     6649\n",
       "ticker                    1147\n",
       "asset_description            4\n",
       "type                         0\n",
       "amount                       0\n",
       "name                         0\n",
       "district                     0\n",
       "cap_gains_over_200_usd       0\n",
       "dtype: int64"
      ]
     },
     "execution_count": 21,
     "metadata": {},
     "output_type": "execute_result"
    }
   ],
   "source": [
    "## Used is null and sum to count null values in df\n",
    "merged3.isnull().sum(axis = 0)[:11]"
   ]
  },
  {
   "cell_type": "markdown",
   "metadata": {},
   "source": [
    "### I created a boolean column in the df indicating which rows contained a null value for the owner column"
   ]
  },
  {
   "cell_type": "code",
   "execution_count": 22,
   "metadata": {},
   "outputs": [],
   "source": [
    "## Created and assigned data to new column\n",
    "merged3['owner_missing'] = merged3['owner'].isna()"
   ]
  },
  {
   "cell_type": "markdown",
   "metadata": {},
   "source": [
    "### Created and plotted a pivot table showing the proportions of whether the owner value is missing corresponding to its party"
   ]
  },
  {
   "cell_type": "code",
   "execution_count": 23,
   "metadata": {},
   "outputs": [
    {
     "data": {
      "image/png": "[encoded data removed]",
      "text/plain": [
       "<Figure size 432x288 with 1 Axes>"
      ]
     },
     "metadata": {
      "needs_background": "light"
     },
     "output_type": "display_data"
    }
   ],
   "source": [
    "## Created pivot table and plotted\n",
    "distributions = (\n",
    "   merged3\n",
    "    .pivot_table(index='party', columns='owner_missing', values=None, \\\n",
    "                 aggfunc='size')\n",
    "    .fillna(0)\n",
    "    .apply(lambda x: x / x.sum())\n",
    ")\n",
    "distributions.iloc[:15].plot(kind='barh', \\\n",
    "                             title='Distribution of Party by Missingness of Owner');"
   ]
  },
  {
   "cell_type": "markdown",
   "metadata": {},
   "source": [
    "### My observed statistic"
   ]
  },
  {
   "cell_type": "code",
   "execution_count": 24,
   "metadata": {},
   "outputs": [
    {
     "data": {
      "text/plain": [
       "0.08060913474385367"
      ]
     },
     "execution_count": 24,
     "metadata": {},
     "output_type": "execute_result"
    }
   ],
   "source": [
    "observed_tvd = distributions.diff(axis=1).iloc[:, -1].abs().sum() / 2\n",
    "observed_tvd"
   ]
  },
  {
   "cell_type": "markdown",
   "metadata": {},
   "source": [
    "### I then created a function that I could input columns into, to quickly decipher whether the owner column is dependent on that certain column"
   ]
  },
  {
   "cell_type": "code",
   "execution_count": 25,
   "metadata": {},
   "outputs": [],
   "source": [
    "def nmar(column, merged3):\n",
    "    merged3['owner_missing'] = merged3['owner'].isna()\n",
    "    distributions = (merged3\n",
    "        .pivot_table(index=column, columns='owner_missing', \\\n",
    "                     values=None, aggfunc='size')\n",
    "        .fillna(0).apply(lambda x: x / x.sum()))\n",
    "    observed_tvd = distributions.diff(axis=1).iloc\\\n",
    "                            [:, -1].abs().sum() / 2\n",
    "    \n",
    "\n",
    "    shuffled = merged3.copy()[[column, 'owner_missing']]\n",
    "\n",
    "    n_repetitions = 500\n",
    "    tvds = []\n",
    "\n",
    "    for i in range(n_repetitions):\n",
    "        # Shuffling column\n",
    "        shuffled[column] = np.random.permutation(shuffled[column])\n",
    "    \n",
    "        # Computing and storing the TVD\n",
    "        pivoted = (\n",
    "            shuffled\n",
    "            .pivot_table(index=column, columns='owner_missing', \\\n",
    "                         values=None, aggfunc='size')\n",
    "            .fillna(0).apply(lambda x: x / x.sum()))\n",
    "    \n",
    "        tvd = pivoted.diff(axis=1).iloc[:, -1].abs().sum() / 2\n",
    "        tvds.append(tvd)\n",
    "\n",
    "    pval = np.mean(tvds >= observed_tvd)\n",
    "    pd.Series(tvds).plot(kind='hist', density=True, ec='w', bins=10, \\\n",
    "                         title=f'p-value: {pval}', label='Simulated TVDs')\n",
    "    plt.axvline(x=observed_tvd, color='red', linewidth=4, label='Observed TVD')\n",
    "    plt.legend();"
   ]
  },
  {
   "cell_type": "markdown",
   "metadata": {},
   "source": [
    "### Owner missing depending on cap_gains_over_200_usd?"
   ]
  },
  {
   "cell_type": "code",
   "execution_count": 26,
   "metadata": {},
   "outputs": [
    {
     "data": {
      "image/png": "[encoded data removed]",
      "text/plain": [
       "<Figure size 432x288 with 1 Axes>"
      ]
     },
     "metadata": {
      "needs_background": "light"
     },
     "output_type": "display_data"
    }
   ],
   "source": [
    "nmar('cap_gains_over_200_usd', merged3)"
   ]
  },
  {
   "cell_type": "markdown",
   "metadata": {},
   "source": [
    "### Owner missing depending on amount?"
   ]
  },
  {
   "cell_type": "code",
   "execution_count": 27,
   "metadata": {},
   "outputs": [
    {
     "data": {
      "image/png": "[encoded data removed]",
      "text/plain": [
       "<Figure size 432x288 with 1 Axes>"
      ]
     },
     "metadata": {
      "needs_background": "light"
     },
     "output_type": "display_data"
    }
   ],
   "source": [
    "nmar('amount', merged3)"
   ]
  },
  {
   "cell_type": "markdown",
   "metadata": {},
   "source": [
    "### Owner missing depending on type?"
   ]
  },
  {
   "cell_type": "code",
   "execution_count": 28,
   "metadata": {},
   "outputs": [
    {
     "data": {
      "image/png": "[encoded data removed]",
      "text/plain": [
       "<Figure size 432x288 with 1 Axes>"
      ]
     },
     "metadata": {
      "needs_background": "light"
     },
     "output_type": "display_data"
    }
   ],
   "source": [
    "nmar('type', merged3)"
   ]
  },
  {
   "cell_type": "markdown",
   "metadata": {},
   "source": [
    "## Hypothesis Testing"
   ]
  },
  {
   "cell_type": "markdown",
   "metadata": {
    "ExecuteTime": {
     "end_time": "2019-10-31T23:36:28.666489Z",
     "start_time": "2019-10-31T23:36:28.664381Z"
    }
   },
   "source": [
    "### Question: Do Republicans make bigger trades than Democrats?\n",
    "\n",
    "#### Null hypothesis: Republican Mean Trade <= Democrat Mean Trade\n",
    "\n",
    "#### Alternative hypothesis: Republican Mean Trade > Democrat Mean Trade\n",
    "\n",
    "#### Test statistic: Difference in means\n",
    "\n",
    "\n",
    "#### Significance Level: .05 \n"
   ]
  },
  {
   "cell_type": "markdown",
   "metadata": {},
   "source": [
    "### The observed test statistic, which is the difference in purchase amount means between Democrats and Republicans"
   ]
  },
  {
   "cell_type": "code",
   "execution_count": 29,
   "metadata": {},
   "outputs": [
    {
     "data": {
      "text/plain": [
       "16449.755974499618"
      ]
     },
     "execution_count": 29,
     "metadata": {},
     "output_type": "execute_result"
    }
   ],
   "source": [
    "# Subtracted the means which was found earlier in the EDA section\n",
    "observed_difference = (merged3.groupby('party')['amount'].mean().\\\n",
    "                       diff().iloc[-1])\n",
    "observed_difference"
   ]
  },
  {
   "cell_type": "markdown",
   "metadata": {},
   "source": [
    "### My simulation which will be ran 500 times under the null hypothesis"
   ]
  },
  {
   "cell_type": "code",
   "execution_count": 30,
   "metadata": {},
   "outputs": [
    {
     "data": {
      "text/plain": [
       "[11681.503006042225,\n",
       " 7178.723361651544,\n",
       " 6251.745911651229,\n",
       " 3245.7454754343817,\n",
       " 4382.5524886645]"
      ]
     },
     "execution_count": 30,
     "metadata": {},
     "output_type": "execute_result"
    }
   ],
   "source": [
    "n_repetitions = 500\n",
    "\n",
    "differences = []\n",
    "for i in range(n_repetitions):\n",
    "    \n",
    "    # Shuffling\n",
    "    shuffled_amount = (merged3['amount'].sample(frac=1).\\\n",
    "                       reset_index(drop=True))\n",
    "    \n",
    "    # Assigned shuffled column to dataframe\n",
    "    shuffled = (merged3.assign(**{'Shuffled Amount': shuffled_amount}))\n",
    "    \n",
    "    # Computing test statistic\n",
    "    group_means = (shuffled.groupby('party').mean().loc[:, 'Shuffled Amount'])\n",
    "    \n",
    "    difference = abs(group_means.diff().iloc[-1])\n",
    "    \n",
    "    # Appending result\n",
    "    differences.append(difference)\n",
    "    \n",
    "differences[:5]"
   ]
  },
  {
   "cell_type": "markdown",
   "metadata": {},
   "source": [
    "### Plotting my results using a histogram"
   ]
  },
  {
   "cell_type": "code",
   "execution_count": 31,
   "metadata": {},
   "outputs": [
    {
     "data": {
      "image/png": "[encoded data removed]",
      "text/plain": [
       "<Figure size 432x288 with 1 Axes>"
      ]
     },
     "metadata": {
      "needs_background": "light"
     },
     "output_type": "display_data"
    }
   ],
   "source": [
    "# Plotting my results using a histogram\n",
    "title = 'Mean Differences in Stock Amount purchased'\n",
    "pd.Series(differences).plot(kind='hist',  ec='w', bins=2, title=title)\n",
    "plt.axvline(x=observed_difference, color='red', linewidth=3);"
   ]
  },
  {
   "cell_type": "markdown",
   "metadata": {},
   "source": [
    "### My resulting P-Value"
   ]
  },
  {
   "cell_type": "code",
   "execution_count": 32,
   "metadata": {},
   "outputs": [
    {
     "data": {
      "text/plain": [
       "0.002"
      ]
     },
     "execution_count": 32,
     "metadata": {},
     "output_type": "execute_result"
    }
   ],
   "source": [
    "pval = (differences >= observed_difference).mean()\n",
    "pval"
   ]
  },
  {
   "cell_type": "markdown",
   "metadata": {},
   "source": [
    "### With this information, we can reject the null and accept the alternative that Republicans do on average make larger transactions than Democrats"
   ]
  },
  {
   "cell_type": "markdown",
   "metadata": {},
   "source": [
    "# Predicting Party Affiliation based off of stock trades with Machine Learning\n",
    "**By: Daniel Milton**"
   ]
  },
  {
   "cell_type": "markdown",
   "metadata": {},
   "source": [
    "## Summary of Findings\n",
    "\n",
    "\n",
    "### Introduction\n",
    "Here we will be diving into the current (117th) House of Representatives stock trades for the past two years. With help from the dataset provided by Timothy Carambat (https://housestockwatcher.com/api), the prediction I will be modeling is whether we can predict the politicians political party purely off of information about their stock trade. Since we are predicting a political party of either Republican or Democrat only, this will be a binary classification problem. Our response variable is the political party and I chose this to predict because I wanted to see if there truly was a fundamental differnce between how different parties trade stocks and whether I can build a model predicting the party based off of these differences. The metric we will be using is accuracy. The reason why I decided to use the accuracy metric over other metrics like the F1 score is because accuracy is easy to understand and since false negatives and false positives don't have any significant drawbacks associated with them, accuracy is a much better choice. Every row in this dataset indicates the end of a stock trade, so I am assuming that the information that will be known at the time of the prediction is timeline of the stock transaction, owner type, ticker, asset description, type of transaction, amount, name of politician who made the transaction, and whether they made capital gains of over 200 thousand from the trade.\n",
    "\n",
    "### Baseline Model\n",
    "For my initial baseline model, I decided to use K-Closest Neighbors Classifier. For this simple model, the features I decided to use to predict political party is type of transaction(categorical) and amount traded(nominal). The amount I left alone, but for the type of transaction feature, I did a one hot encoding transformation since it was a categorical feature. In this model, it achieved an accuracy of 0.554868, precision of 0.625402, and a recall of 0.410771. I believe that this model performed very poorly considering that if it predicted all Democrats for every row, it would achieve an accuracy of 64%! Using K-folds cross validation, we also discover that this model won't generalize to unseen data too well as we got an average accuracy of 59.7% from cross validation.\n",
    "\n",
    "\n",
    "### Final Model\n",
    "For the final model, we made some improvements on top of our baseline model. For this I made a new feature called 'time_passed' which was the calculation of days elapsed between the opening of the stock trade and the close. I thought this was a good feature to add since it made use of the timestamps provided in the orginal dataset as well as providing further insight into potential trading patterns between the two political parties. I then created a column transformer object that let me one hot encode the type of trade feature and the type of owner feature. It is important for us to one hot encode these categorical features in order for us to be able to model them. I also standarized the amount feature and the days elapsed feature in order to keep all the nominal features consistent. I then created a parameter grid to run a grid search on to find the optimal parameters for this model. I iterated through several options on the amount of n neighbors, leaf size, power parameter for the Minkowski metric, and its weights. Through grid search, I discovered the best parameters to be leaf size: 20, N neighbors: 50, power parameter: 1, and weights: 'distance'.In this model, it achieved an accuracy of 0.803602, precision of 0.640675, and a recall of 0.760496. This model did much better than our baseline model and scored above the minimum percentage correct as if we predicted all Democrat! Using K-folds cross validation, we also discover that this can decently generalize to unseen data as we got an average accuracy score of 79%.\n",
    " \n",
    "\n",
    "### Fairness Analysis\n",
    "Here we will be doing a fairness analysis between whether large stock transactions and small stock transactions perform differently in our predictions. In order to do this we performed a permutation test evaluating the difference in accuracy between the observed difference in accuracy and simulated differences in accuracies. We got an observed difference of -.009. With the simulation ran 1000 times, we found the p-value to be .451. Since we have a p-value greater than our significance level, we fail to reject the null and the accuracy for both large and small transactions are the same for our model. \n",
    "\n",
    "\n",
    "#### Permutation Test\n",
    "The question I decided to do a permutation test on was whether the amount size of the stock trade affected the accuracy of our model.\n",
    "\n",
    "#### Null hypothesis: Our model is fair. Its accuracy is the same for both large and small transactions.\n",
    "\n",
    "#### Alternative hypothesis: Our model is unfair. Its accuracy is less for smaller transactions.\n",
    "\n",
    "#### Test statistic: Difference in Accuracy\n",
    "\n",
    "#### Significance Level: .05 "
   ]
  },
  {
   "cell_type": "markdown",
   "metadata": {},
   "source": [
    "# Code and Imports"
   ]
  },
  {
   "cell_type": "code",
   "execution_count": 60,
   "metadata": {},
   "outputs": [],
   "source": [
    "import matplotlib.pyplot as plt\n",
    "import numpy as np\n",
    "import os\n",
    "import pandas as pd\n",
    "import seaborn as sns\n",
    "%config InlineBackend.figure_format = 'retina'  # Higher resolution figures"
   ]
  },
  {
   "cell_type": "markdown",
   "metadata": {},
   "source": [
    "# Baseline Model"
   ]
  },
  {
   "cell_type": "markdown",
   "metadata": {},
   "source": [
    "### Imports we need to make our model"
   ]
  },
  {
   "cell_type": "code",
   "execution_count": 70,
   "metadata": {},
   "outputs": [],
   "source": [
    "from sklearn.preprocessing import FunctionTransformer\n",
    "from sklearn.preprocessing import OneHotEncoder\n",
    "from sklearn.pipeline import Pipeline\n",
    "from sklearn.compose import ColumnTransformer\n",
    "from sklearn.model_selection import train_test_split\n",
    "from sklearn.preprocessing import StandardScaler\n",
    "from sklearn.neighbors import KNeighborsClassifier\n",
    "from sklearn.model_selection import GridSearchCV\n",
    "from sklearn.model_selection import cross_val_score, KFold"
   ]
  },
  {
   "cell_type": "markdown",
   "metadata": {},
   "source": [
    "### Creating orginal dataset with its respective party affiliation from project 3"
   ]
  },
  {
   "cell_type": "code",
   "execution_count": 71,
   "metadata": {},
   "outputs": [
    {
     "data": {
      "text/html": [
       "<div>\n",
       "<style scoped>\n",
       "    .dataframe tbody tr th:only-of-type {\n",
       "        vertical-align: middle;\n",
       "    }\n",
       "\n",
       "    .dataframe tbody tr th {\n",
       "        vertical-align: top;\n",
       "    }\n",
       "\n",
       "    .dataframe thead th {\n",
       "        text-align: right;\n",
       "    }\n",
       "</style>\n",
       "<table border=\"1\" class=\"dataframe\">\n",
       "  <thead>\n",
       "    <tr style=\"text-align: right;\">\n",
       "      <th></th>\n",
       "      <th>disclosure_year</th>\n",
       "      <th>disclosure_date</th>\n",
       "      <th>transaction_date</th>\n",
       "      <th>owner</th>\n",
       "      <th>ticker</th>\n",
       "      <th>asset_description</th>\n",
       "      <th>type</th>\n",
       "      <th>amount</th>\n",
       "      <th>name</th>\n",
       "      <th>cap_gains_over_200_usd</th>\n",
       "      <th>party</th>\n",
       "    </tr>\n",
       "  </thead>\n",
       "  <tbody>\n",
       "    <tr>\n",
       "      <th>0</th>\n",
       "      <td>2021</td>\n",
       "      <td>2021-10-04</td>\n",
       "      <td>2021-09-27</td>\n",
       "      <td>joint</td>\n",
       "      <td>BP</td>\n",
       "      <td>BP plc</td>\n",
       "      <td>purchase</td>\n",
       "      <td>1000</td>\n",
       "      <td>virginia-foxx</td>\n",
       "      <td>False</td>\n",
       "      <td>Republican</td>\n",
       "    </tr>\n",
       "    <tr>\n",
       "      <th>1</th>\n",
       "      <td>2021</td>\n",
       "      <td>2021-10-04</td>\n",
       "      <td>2021-09-13</td>\n",
       "      <td>joint</td>\n",
       "      <td>XOM</td>\n",
       "      <td>Exxon Mobil Corporation</td>\n",
       "      <td>purchase</td>\n",
       "      <td>1000</td>\n",
       "      <td>virginia-foxx</td>\n",
       "      <td>False</td>\n",
       "      <td>Republican</td>\n",
       "    </tr>\n",
       "    <tr>\n",
       "      <th>2</th>\n",
       "      <td>2021</td>\n",
       "      <td>2021-10-04</td>\n",
       "      <td>2021-09-10</td>\n",
       "      <td>joint</td>\n",
       "      <td>ILPT</td>\n",
       "      <td>Industrial Logistics Properties Trust - Common...</td>\n",
       "      <td>purchase</td>\n",
       "      <td>15000</td>\n",
       "      <td>virginia-foxx</td>\n",
       "      <td>False</td>\n",
       "      <td>Republican</td>\n",
       "    </tr>\n",
       "    <tr>\n",
       "      <th>3</th>\n",
       "      <td>2021</td>\n",
       "      <td>2021-10-04</td>\n",
       "      <td>2021-09-28</td>\n",
       "      <td>joint</td>\n",
       "      <td>PM</td>\n",
       "      <td>Phillip Morris International Inc</td>\n",
       "      <td>purchase</td>\n",
       "      <td>15000</td>\n",
       "      <td>virginia-foxx</td>\n",
       "      <td>False</td>\n",
       "      <td>Republican</td>\n",
       "    </tr>\n",
       "    <tr>\n",
       "      <th>4</th>\n",
       "      <td>2021</td>\n",
       "      <td>2021-10-04</td>\n",
       "      <td>2021-09-17</td>\n",
       "      <td>self</td>\n",
       "      <td>BLK</td>\n",
       "      <td>BlackRock Inc</td>\n",
       "      <td>sale_partial</td>\n",
       "      <td>1000</td>\n",
       "      <td>alan-lowenthal</td>\n",
       "      <td>False</td>\n",
       "      <td>Democrat</td>\n",
       "    </tr>\n",
       "  </tbody>\n",
       "</table>\n",
       "</div>"
      ],
      "text/plain": [
       "   disclosure_year disclosure_date transaction_date  owner ticker  \\\n",
       "0             2021      2021-10-04       2021-09-27  joint     BP   \n",
       "1             2021      2021-10-04       2021-09-13  joint    XOM   \n",
       "2             2021      2021-10-04       2021-09-10  joint   ILPT   \n",
       "3             2021      2021-10-04       2021-09-28  joint     PM   \n",
       "4             2021      2021-10-04       2021-09-17   self    BLK   \n",
       "\n",
       "                                   asset_description          type  amount  \\\n",
       "0                                             BP plc      purchase    1000   \n",
       "1                            Exxon Mobil Corporation      purchase    1000   \n",
       "2  Industrial Logistics Properties Trust - Common...      purchase   15000   \n",
       "3                   Phillip Morris International Inc      purchase   15000   \n",
       "4                                      BlackRock Inc  sale_partial    1000   \n",
       "\n",
       "             name  cap_gains_over_200_usd       party  \n",
       "0   virginia-foxx                   False  Republican  \n",
       "1   virginia-foxx                   False  Republican  \n",
       "2   virginia-foxx                   False  Republican  \n",
       "3   virginia-foxx                   False  Republican  \n",
       "4  alan-lowenthal                   False    Democrat  "
      ]
     },
     "execution_count": 71,
     "metadata": {},
     "output_type": "execute_result"
    }
   ],
   "source": [
    "baseline_data = merged3.drop(['state', 'add', 'owner_missing', \\\n",
    "                              'district'], axis=1)\n",
    "baseline_data.head()"
   ]
  },
  {
   "cell_type": "markdown",
   "metadata": {},
   "source": [
    "### Percentage of respective political parties"
   ]
  },
  {
   "cell_type": "code",
   "execution_count": 72,
   "metadata": {},
   "outputs": [
    {
     "data": {
      "text/plain": [
       "Democrat      0.640366\n",
       "Republican    0.359634\n",
       "Name: party, dtype: float64"
      ]
     },
     "execution_count": 72,
     "metadata": {},
     "output_type": "execute_result"
    }
   ],
   "source": [
    "baseline_data['party'].value_counts(normalize = True)"
   ]
  },
  {
   "cell_type": "markdown",
   "metadata": {},
   "source": [
    "### Here we drop the owner and ticker column to clean the data of nan values"
   ]
  },
  {
   "cell_type": "code",
   "execution_count": 73,
   "metadata": {},
   "outputs": [
    {
     "data": {
      "text/html": [
       "<div>\n",
       "<style scoped>\n",
       "    .dataframe tbody tr th:only-of-type {\n",
       "        vertical-align: middle;\n",
       "    }\n",
       "\n",
       "    .dataframe tbody tr th {\n",
       "        vertical-align: top;\n",
       "    }\n",
       "\n",
       "    .dataframe thead th {\n",
       "        text-align: right;\n",
       "    }\n",
       "</style>\n",
       "<table border=\"1\" class=\"dataframe\">\n",
       "  <thead>\n",
       "    <tr style=\"text-align: right;\">\n",
       "      <th></th>\n",
       "      <th>disclosure_year</th>\n",
       "      <th>disclosure_date</th>\n",
       "      <th>transaction_date</th>\n",
       "      <th>asset_description</th>\n",
       "      <th>type</th>\n",
       "      <th>amount</th>\n",
       "      <th>name</th>\n",
       "      <th>cap_gains_over_200_usd</th>\n",
       "      <th>party</th>\n",
       "    </tr>\n",
       "  </thead>\n",
       "  <tbody>\n",
       "    <tr>\n",
       "      <th>0</th>\n",
       "      <td>2021</td>\n",
       "      <td>2021-10-04</td>\n",
       "      <td>2021-09-27</td>\n",
       "      <td>BP plc</td>\n",
       "      <td>purchase</td>\n",
       "      <td>1000</td>\n",
       "      <td>virginia-foxx</td>\n",
       "      <td>False</td>\n",
       "      <td>Republican</td>\n",
       "    </tr>\n",
       "    <tr>\n",
       "      <th>1</th>\n",
       "      <td>2021</td>\n",
       "      <td>2021-10-04</td>\n",
       "      <td>2021-09-13</td>\n",
       "      <td>Exxon Mobil Corporation</td>\n",
       "      <td>purchase</td>\n",
       "      <td>1000</td>\n",
       "      <td>virginia-foxx</td>\n",
       "      <td>False</td>\n",
       "      <td>Republican</td>\n",
       "    </tr>\n",
       "    <tr>\n",
       "      <th>2</th>\n",
       "      <td>2021</td>\n",
       "      <td>2021-10-04</td>\n",
       "      <td>2021-09-10</td>\n",
       "      <td>Industrial Logistics Properties Trust - Common...</td>\n",
       "      <td>purchase</td>\n",
       "      <td>15000</td>\n",
       "      <td>virginia-foxx</td>\n",
       "      <td>False</td>\n",
       "      <td>Republican</td>\n",
       "    </tr>\n",
       "    <tr>\n",
       "      <th>3</th>\n",
       "      <td>2021</td>\n",
       "      <td>2021-10-04</td>\n",
       "      <td>2021-09-28</td>\n",
       "      <td>Phillip Morris International Inc</td>\n",
       "      <td>purchase</td>\n",
       "      <td>15000</td>\n",
       "      <td>virginia-foxx</td>\n",
       "      <td>False</td>\n",
       "      <td>Republican</td>\n",
       "    </tr>\n",
       "    <tr>\n",
       "      <th>4</th>\n",
       "      <td>2021</td>\n",
       "      <td>2021-10-04</td>\n",
       "      <td>2021-09-17</td>\n",
       "      <td>BlackRock Inc</td>\n",
       "      <td>sale_partial</td>\n",
       "      <td>1000</td>\n",
       "      <td>alan-lowenthal</td>\n",
       "      <td>False</td>\n",
       "      <td>Democrat</td>\n",
       "    </tr>\n",
       "  </tbody>\n",
       "</table>\n",
       "</div>"
      ],
      "text/plain": [
       "   disclosure_year disclosure_date transaction_date  \\\n",
       "0             2021      2021-10-04       2021-09-27   \n",
       "1             2021      2021-10-04       2021-09-13   \n",
       "2             2021      2021-10-04       2021-09-10   \n",
       "3             2021      2021-10-04       2021-09-28   \n",
       "4             2021      2021-10-04       2021-09-17   \n",
       "\n",
       "                                   asset_description          type  amount  \\\n",
       "0                                             BP plc      purchase    1000   \n",
       "1                            Exxon Mobil Corporation      purchase    1000   \n",
       "2  Industrial Logistics Properties Trust - Common...      purchase   15000   \n",
       "3                   Phillip Morris International Inc      purchase   15000   \n",
       "4                                      BlackRock Inc  sale_partial    1000   \n",
       "\n",
       "             name  cap_gains_over_200_usd       party  \n",
       "0   virginia-foxx                   False  Republican  \n",
       "1   virginia-foxx                   False  Republican  \n",
       "2   virginia-foxx                   False  Republican  \n",
       "3   virginia-foxx                   False  Republican  \n",
       "4  alan-lowenthal                   False    Democrat  "
      ]
     },
     "execution_count": 73,
     "metadata": {},
     "output_type": "execute_result"
    }
   ],
   "source": [
    "baseline_data = baseline_data.drop(['owner', 'ticker'], axis=1)\n",
    "baseline_data = baseline_data.dropna()\n",
    "baseline_data.head()"
   ]
  },
  {
   "cell_type": "markdown",
   "metadata": {},
   "source": [
    "### Prepping data for train test split"
   ]
  },
  {
   "cell_type": "code",
   "execution_count": 74,
   "metadata": {},
   "outputs": [
    {
     "data": {
      "text/html": [
       "<div>\n",
       "<style scoped>\n",
       "    .dataframe tbody tr th:only-of-type {\n",
       "        vertical-align: middle;\n",
       "    }\n",
       "\n",
       "    .dataframe tbody tr th {\n",
       "        vertical-align: top;\n",
       "    }\n",
       "\n",
       "    .dataframe thead th {\n",
       "        text-align: right;\n",
       "    }\n",
       "</style>\n",
       "<table border=\"1\" class=\"dataframe\">\n",
       "  <thead>\n",
       "    <tr style=\"text-align: right;\">\n",
       "      <th></th>\n",
       "      <th>disclosure_year</th>\n",
       "      <th>disclosure_date</th>\n",
       "      <th>transaction_date</th>\n",
       "      <th>asset_description</th>\n",
       "      <th>type</th>\n",
       "      <th>amount</th>\n",
       "      <th>name</th>\n",
       "      <th>cap_gains_over_200_usd</th>\n",
       "      <th>party</th>\n",
       "    </tr>\n",
       "  </thead>\n",
       "  <tbody>\n",
       "    <tr>\n",
       "      <th>0</th>\n",
       "      <td>2021</td>\n",
       "      <td>2021-10-04</td>\n",
       "      <td>2021-09-27</td>\n",
       "      <td>BP plc</td>\n",
       "      <td>purchase</td>\n",
       "      <td>1000</td>\n",
       "      <td>virginia-foxx</td>\n",
       "      <td>False</td>\n",
       "      <td>1</td>\n",
       "    </tr>\n",
       "    <tr>\n",
       "      <th>1</th>\n",
       "      <td>2021</td>\n",
       "      <td>2021-10-04</td>\n",
       "      <td>2021-09-13</td>\n",
       "      <td>Exxon Mobil Corporation</td>\n",
       "      <td>purchase</td>\n",
       "      <td>1000</td>\n",
       "      <td>virginia-foxx</td>\n",
       "      <td>False</td>\n",
       "      <td>1</td>\n",
       "    </tr>\n",
       "    <tr>\n",
       "      <th>2</th>\n",
       "      <td>2021</td>\n",
       "      <td>2021-10-04</td>\n",
       "      <td>2021-09-10</td>\n",
       "      <td>Industrial Logistics Properties Trust - Common...</td>\n",
       "      <td>purchase</td>\n",
       "      <td>15000</td>\n",
       "      <td>virginia-foxx</td>\n",
       "      <td>False</td>\n",
       "      <td>1</td>\n",
       "    </tr>\n",
       "    <tr>\n",
       "      <th>3</th>\n",
       "      <td>2021</td>\n",
       "      <td>2021-10-04</td>\n",
       "      <td>2021-09-28</td>\n",
       "      <td>Phillip Morris International Inc</td>\n",
       "      <td>purchase</td>\n",
       "      <td>15000</td>\n",
       "      <td>virginia-foxx</td>\n",
       "      <td>False</td>\n",
       "      <td>1</td>\n",
       "    </tr>\n",
       "    <tr>\n",
       "      <th>4</th>\n",
       "      <td>2021</td>\n",
       "      <td>2021-10-04</td>\n",
       "      <td>2021-09-17</td>\n",
       "      <td>BlackRock Inc</td>\n",
       "      <td>sale_partial</td>\n",
       "      <td>1000</td>\n",
       "      <td>alan-lowenthal</td>\n",
       "      <td>False</td>\n",
       "      <td>0</td>\n",
       "    </tr>\n",
       "  </tbody>\n",
       "</table>\n",
       "</div>"
      ],
      "text/plain": [
       "   disclosure_year disclosure_date transaction_date  \\\n",
       "0             2021      2021-10-04       2021-09-27   \n",
       "1             2021      2021-10-04       2021-09-13   \n",
       "2             2021      2021-10-04       2021-09-10   \n",
       "3             2021      2021-10-04       2021-09-28   \n",
       "4             2021      2021-10-04       2021-09-17   \n",
       "\n",
       "                                   asset_description          type  amount  \\\n",
       "0                                             BP plc      purchase    1000   \n",
       "1                            Exxon Mobil Corporation      purchase    1000   \n",
       "2  Industrial Logistics Properties Trust - Common...      purchase   15000   \n",
       "3                   Phillip Morris International Inc      purchase   15000   \n",
       "4                                      BlackRock Inc  sale_partial    1000   \n",
       "\n",
       "             name  cap_gains_over_200_usd  party  \n",
       "0   virginia-foxx                   False      1  \n",
       "1   virginia-foxx                   False      1  \n",
       "2   virginia-foxx                   False      1  \n",
       "3   virginia-foxx                   False      1  \n",
       "4  alan-lowenthal                   False      0  "
      ]
     },
     "execution_count": 74,
     "metadata": {},
     "output_type": "execute_result"
    }
   ],
   "source": [
    "## In order for binary classification, we change our \n",
    "## predicted values to 0 and 1's.\n",
    "party_dict = {'Republican' : 1, 'Democrat': 0}\n",
    "\n",
    "baseline_data['party'] = baseline_data['party'].map(party_dict)\n",
    "\n",
    "baseline_data.head()"
   ]
  },
  {
   "cell_type": "markdown",
   "metadata": {},
   "source": [
    "### Preprocessing the data and creating a pipeline"
   ]
  },
  {
   "cell_type": "code",
   "execution_count": 75,
   "metadata": {},
   "outputs": [],
   "source": [
    "## Here we create a column transformer that allows us to\n",
    "## modify our features to something more applicable to\n",
    "## our model\n",
    "preproc = ColumnTransformer(\n",
    "        transformers = [\n",
    "            ## One hot encoding the categorical column 'type'\n",
    "            ('ohe', OneHotEncoder(), ['type'])\n",
    "        ]\n",
    "    )\n",
    "## We then can bundle the preprocessing pipline with a \n",
    "## K nearest neighbors model\n",
    "pl = Pipeline([\n",
    "        ('preprocessor', preproc), \n",
    "        ('model', KNeighborsClassifier())\n",
    "    ])"
   ]
  },
  {
   "cell_type": "markdown",
   "metadata": {},
   "source": [
    "### Performing train test split and fitting the data to the pipeline"
   ]
  },
  {
   "cell_type": "code",
   "execution_count": 76,
   "metadata": {},
   "outputs": [
    {
     "data": {
      "text/plain": [
       "Pipeline(steps=[('preprocessor',\n",
       "                 ColumnTransformer(transformers=[('ohe', OneHotEncoder(),\n",
       "                                                  ['type'])])),\n",
       "                ('model', KNeighborsClassifier())])"
      ]
     },
     "execution_count": 76,
     "metadata": {},
     "output_type": "execute_result"
    }
   ],
   "source": [
    "## Created X and y with their respective features\n",
    "X = baseline_data.copy().loc[:, ['amount', 'type']]\n",
    "y = baseline_data.copy().loc[:, ['party']]\n",
    "\n",
    "## used this to make y into an array\n",
    "y = np.ravel(y)\n",
    "\n",
    "## Created a train test split and set random state to zero so we can\n",
    "##  accurately compare results between the baseline and final model\n",
    "X_train,X_test,y_train,y_test=train_test_split(X,y,test_size=0.25,\\\n",
    "                                               random_state=0)\n",
    "\n",
    "## Fitting the model to the data\n",
    "pl.fit(X_train, y_train)"
   ]
  },
  {
   "cell_type": "markdown",
   "metadata": {},
   "source": [
    "### Making predictions on the data and getting back metrics"
   ]
  },
  {
   "cell_type": "code",
   "execution_count": 77,
   "metadata": {},
   "outputs": [
    {
     "data": {
      "text/html": [
       "<div>\n",
       "<style scoped>\n",
       "    .dataframe tbody tr th:only-of-type {\n",
       "        vertical-align: middle;\n",
       "    }\n",
       "\n",
       "    .dataframe tbody tr th {\n",
       "        vertical-align: top;\n",
       "    }\n",
       "\n",
       "    .dataframe thead th {\n",
       "        text-align: right;\n",
       "    }\n",
       "</style>\n",
       "<table border=\"1\" class=\"dataframe\">\n",
       "  <thead>\n",
       "    <tr style=\"text-align: right;\">\n",
       "      <th></th>\n",
       "      <th>Accuracy</th>\n",
       "      <th>Precision</th>\n",
       "      <th>Recall</th>\n",
       "    </tr>\n",
       "  </thead>\n",
       "  <tbody>\n",
       "    <tr>\n",
       "      <th>K-Nearest Neighbors</th>\n",
       "      <td>0.554868</td>\n",
       "      <td>0.625402</td>\n",
       "      <td>0.410771</td>\n",
       "    </tr>\n",
       "  </tbody>\n",
       "</table>\n",
       "</div>"
      ],
      "text/plain": [
       "                     Accuracy  Precision    Recall\n",
       "K-Nearest Neighbors  0.554868   0.625402  0.410771"
      ]
     },
     "execution_count": 77,
     "metadata": {},
     "output_type": "execute_result"
    }
   ],
   "source": [
    "from sklearn.metrics import accuracy_score, precision_score, recall_score\n",
    "\n",
    "## Making predictions on X_test\n",
    "predictions = pl.predict(X_test)\n",
    "\n",
    "## Here I created a small dataframe that contains the models\n",
    "##  Accuracy, Precision, and Recall score\n",
    "df_baseline = pd.DataFrame(index = ['K-Nearest Neighbors'],\\\n",
    "                           columns=['Accuracy', 'Precision', 'Recall'])\n",
    "df_baseline['Accuracy'] = accuracy_score(predictions, y_test)\n",
    "df_baseline['Precision'] = precision_score(predictions, y_test)\n",
    "df_baseline['Recall'] = recall_score(predictions, y_test)\n",
    "df_baseline"
   ]
  },
  {
   "cell_type": "markdown",
   "metadata": {},
   "source": [
    "### Confusion matrix to visualize Positives and Negatives"
   ]
  },
  {
   "cell_type": "code",
   "execution_count": 78,
   "metadata": {},
   "outputs": [
    {
     "data": {
      "image/png": "[encoded data removed]",
      "text/plain": [
       "<Figure size 432x288 with 2 Axes>"
      ]
     },
     "metadata": {
      "image/png": {
       "height": 261,
       "width": 319
      },
      "needs_background": "light"
     },
     "output_type": "display_data"
    }
   ],
   "source": [
    "from sklearn import metrics\n",
    "\n",
    "metrics.plot_confusion_matrix(pl, X_test, y_test);"
   ]
  },
  {
   "cell_type": "markdown",
   "metadata": {},
   "source": [
    "### How well can our model generalize to unseen data using K-Folds cross validation?"
   ]
  },
  {
   "cell_type": "code",
   "execution_count": 83,
   "metadata": {},
   "outputs": [
    {
     "name": "stdout",
     "output_type": "stream",
     "text": [
      "Average Cross Validation score :0.5968785431119485\n"
     ]
    }
   ],
   "source": [
    "## creating a K fold cross validation with 5 folds\n",
    "kf=KFold(n_splits=5, shuffle=True)\n",
    "score=cross_val_score(pl, X_train, y_train,cv=kf)\n",
    "\n",
    "print(\"Average Cross Validation score :{}\".format(score.mean()))"
   ]
  },
  {
   "cell_type": "markdown",
   "metadata": {},
   "source": [
    "# Final Model"
   ]
  },
  {
   "cell_type": "markdown",
   "metadata": {},
   "source": [
    "### Creating the final dataset, we decide to keep only features we will be using in the final model"
   ]
  },
  {
   "cell_type": "code",
   "execution_count": 84,
   "metadata": {},
   "outputs": [
    {
     "data": {
      "text/html": [
       "<div>\n",
       "<style scoped>\n",
       "    .dataframe tbody tr th:only-of-type {\n",
       "        vertical-align: middle;\n",
       "    }\n",
       "\n",
       "    .dataframe tbody tr th {\n",
       "        vertical-align: top;\n",
       "    }\n",
       "\n",
       "    .dataframe thead th {\n",
       "        text-align: right;\n",
       "    }\n",
       "</style>\n",
       "<table border=\"1\" class=\"dataframe\">\n",
       "  <thead>\n",
       "    <tr style=\"text-align: right;\">\n",
       "      <th></th>\n",
       "      <th>disclosure_year</th>\n",
       "      <th>disclosure_date</th>\n",
       "      <th>transaction_date</th>\n",
       "      <th>owner</th>\n",
       "      <th>type</th>\n",
       "      <th>amount</th>\n",
       "      <th>cap_gains_over_200_usd</th>\n",
       "      <th>party</th>\n",
       "    </tr>\n",
       "  </thead>\n",
       "  <tbody>\n",
       "    <tr>\n",
       "      <th>0</th>\n",
       "      <td>2021</td>\n",
       "      <td>2021-10-04</td>\n",
       "      <td>2021-09-27</td>\n",
       "      <td>joint</td>\n",
       "      <td>purchase</td>\n",
       "      <td>1000</td>\n",
       "      <td>False</td>\n",
       "      <td>1.0</td>\n",
       "    </tr>\n",
       "    <tr>\n",
       "      <th>1</th>\n",
       "      <td>2021</td>\n",
       "      <td>2021-10-04</td>\n",
       "      <td>2021-09-13</td>\n",
       "      <td>joint</td>\n",
       "      <td>purchase</td>\n",
       "      <td>1000</td>\n",
       "      <td>False</td>\n",
       "      <td>1.0</td>\n",
       "    </tr>\n",
       "    <tr>\n",
       "      <th>2</th>\n",
       "      <td>2021</td>\n",
       "      <td>2021-10-04</td>\n",
       "      <td>2021-09-10</td>\n",
       "      <td>joint</td>\n",
       "      <td>purchase</td>\n",
       "      <td>15000</td>\n",
       "      <td>False</td>\n",
       "      <td>1.0</td>\n",
       "    </tr>\n",
       "    <tr>\n",
       "      <th>3</th>\n",
       "      <td>2021</td>\n",
       "      <td>2021-10-04</td>\n",
       "      <td>2021-09-28</td>\n",
       "      <td>joint</td>\n",
       "      <td>purchase</td>\n",
       "      <td>15000</td>\n",
       "      <td>False</td>\n",
       "      <td>1.0</td>\n",
       "    </tr>\n",
       "    <tr>\n",
       "      <th>4</th>\n",
       "      <td>2021</td>\n",
       "      <td>2021-10-04</td>\n",
       "      <td>2021-09-17</td>\n",
       "      <td>self</td>\n",
       "      <td>sale_partial</td>\n",
       "      <td>1000</td>\n",
       "      <td>False</td>\n",
       "      <td>0.0</td>\n",
       "    </tr>\n",
       "  </tbody>\n",
       "</table>\n",
       "</div>"
      ],
      "text/plain": [
       "   disclosure_year disclosure_date transaction_date  owner          type  \\\n",
       "0             2021      2021-10-04       2021-09-27  joint      purchase   \n",
       "1             2021      2021-10-04       2021-09-13  joint      purchase   \n",
       "2             2021      2021-10-04       2021-09-10  joint      purchase   \n",
       "3             2021      2021-10-04       2021-09-28  joint      purchase   \n",
       "4             2021      2021-10-04       2021-09-17   self  sale_partial   \n",
       "\n",
       "   amount  cap_gains_over_200_usd  party  \n",
       "0    1000                   False    1.0  \n",
       "1    1000                   False    1.0  \n",
       "2   15000                   False    1.0  \n",
       "3   15000                   False    1.0  \n",
       "4    1000                   False    0.0  "
      ]
     },
     "execution_count": 84,
     "metadata": {},
     "output_type": "execute_result"
    }
   ],
   "source": [
    "## Some minor cleaning of the data\n",
    "final_data = merged3.drop(['state', 'add', 'owner_missing', \\\n",
    "                           'district', 'name', 'asset_description', \\\n",
    "                           'ticker'], axis=1)\n",
    "final_data['party'] = final_data['party'].map(party_dict)\n",
    "final_data['owner'] = final_data['owner'].fillna('None')\n",
    "final_data = final_data.dropna()\n",
    "final_data.head()"
   ]
  },
  {
   "cell_type": "markdown",
   "metadata": {},
   "source": [
    "### Additional feature engineering. Here we make a new feature of time elapsed in days since opening and closing of stock trade. We also change boolean features to integers."
   ]
  },
  {
   "cell_type": "code",
   "execution_count": 85,
   "metadata": {},
   "outputs": [
    {
     "data": {
      "text/html": [
       "<div>\n",
       "<style scoped>\n",
       "    .dataframe tbody tr th:only-of-type {\n",
       "        vertical-align: middle;\n",
       "    }\n",
       "\n",
       "    .dataframe tbody tr th {\n",
       "        vertical-align: top;\n",
       "    }\n",
       "\n",
       "    .dataframe thead th {\n",
       "        text-align: right;\n",
       "    }\n",
       "</style>\n",
       "<table border=\"1\" class=\"dataframe\">\n",
       "  <thead>\n",
       "    <tr style=\"text-align: right;\">\n",
       "      <th></th>\n",
       "      <th>owner</th>\n",
       "      <th>type</th>\n",
       "      <th>amount</th>\n",
       "      <th>cap_gains_over_200_usd</th>\n",
       "      <th>party</th>\n",
       "      <th>time_passed</th>\n",
       "    </tr>\n",
       "  </thead>\n",
       "  <tbody>\n",
       "    <tr>\n",
       "      <th>0</th>\n",
       "      <td>joint</td>\n",
       "      <td>purchase</td>\n",
       "      <td>1000</td>\n",
       "      <td>0</td>\n",
       "      <td>1.0</td>\n",
       "      <td>7.0</td>\n",
       "    </tr>\n",
       "    <tr>\n",
       "      <th>1</th>\n",
       "      <td>joint</td>\n",
       "      <td>purchase</td>\n",
       "      <td>1000</td>\n",
       "      <td>0</td>\n",
       "      <td>1.0</td>\n",
       "      <td>21.0</td>\n",
       "    </tr>\n",
       "    <tr>\n",
       "      <th>2</th>\n",
       "      <td>joint</td>\n",
       "      <td>purchase</td>\n",
       "      <td>15000</td>\n",
       "      <td>0</td>\n",
       "      <td>1.0</td>\n",
       "      <td>24.0</td>\n",
       "    </tr>\n",
       "    <tr>\n",
       "      <th>3</th>\n",
       "      <td>joint</td>\n",
       "      <td>purchase</td>\n",
       "      <td>15000</td>\n",
       "      <td>0</td>\n",
       "      <td>1.0</td>\n",
       "      <td>6.0</td>\n",
       "    </tr>\n",
       "    <tr>\n",
       "      <th>4</th>\n",
       "      <td>self</td>\n",
       "      <td>sale_partial</td>\n",
       "      <td>1000</td>\n",
       "      <td>0</td>\n",
       "      <td>0.0</td>\n",
       "      <td>17.0</td>\n",
       "    </tr>\n",
       "  </tbody>\n",
       "</table>\n",
       "</div>"
      ],
      "text/plain": [
       "   owner          type  amount  cap_gains_over_200_usd  party  time_passed\n",
       "0  joint      purchase    1000                       0    1.0          7.0\n",
       "1  joint      purchase    1000                       0    1.0         21.0\n",
       "2  joint      purchase   15000                       0    1.0         24.0\n",
       "3  joint      purchase   15000                       0    1.0          6.0\n",
       "4   self  sale_partial    1000                       0    0.0         17.0"
      ]
     },
     "execution_count": 85,
     "metadata": {},
     "output_type": "execute_result"
    }
   ],
   "source": [
    "## Converting this column to pd.datetime object\n",
    "final_data[\"transaction_date\"] = pd.to_datetime\\\n",
    "(final_data['transaction_date'], errors='coerce')\n",
    "\n",
    "## Calculating the difference in days between these \n",
    "## two columns to get new feature 'time_passed'\n",
    "final_data['time_passed'] = (final_data['disclosure_date']\\\n",
    "                             - final_data[\"transaction_date\"]).dt.days\n",
    "\n",
    "## converting this boolean column to int column\n",
    "final_data['cap_gains_over_200_usd'] = \\\n",
    "final_data['cap_gains_over_200_usd'].astype(int)\n",
    "\n",
    "## Dropping date columns now they are no longer \n",
    "## needed after getting the time_passed column\n",
    "final_data = final_data.drop(['disclosure_year', \\\n",
    "                              'disclosure_date', \\\n",
    "                              'transaction_date'], axis=1)\n",
    "\n",
    "\n",
    "final_data = final_data.dropna()\n",
    "final_data.head()"
   ]
  },
  {
   "cell_type": "markdown",
   "metadata": {},
   "source": [
    "### Preprocessing the data by creating new features through one hot encoding and standardizing data"
   ]
  },
  {
   "cell_type": "code",
   "execution_count": 86,
   "metadata": {},
   "outputs": [],
   "source": [
    "reproc = ColumnTransformer(\n",
    "        transformers = [\n",
    "            ## One hot encoding the categorical column 'type' and 'owner'\n",
    "            ('ohe', OneHotEncoder(), ['type', 'owner']),\n",
    "            ## Standardizing columns 'amount' and 'time_passed'\n",
    "            ('std', StandardScaler(), ['amount', 'time_passed'])\n",
    "        ]\n",
    "    )\n",
    "\n",
    "## We then can bundle the preprocessing pipline with a \n",
    "## K nearest neighbors model\n",
    "pl = Pipeline([\n",
    "        ('preprocessor', reproc), \n",
    "        ('model', KNeighborsClassifier())\n",
    "    ])"
   ]
  },
  {
   "cell_type": "markdown",
   "metadata": {},
   "source": [
    "### Performing train test split and fitting the data to the pipeline"
   ]
  },
  {
   "cell_type": "code",
   "execution_count": 87,
   "metadata": {},
   "outputs": [
    {
     "data": {
      "text/html": [
       "<div>\n",
       "<style scoped>\n",
       "    .dataframe tbody tr th:only-of-type {\n",
       "        vertical-align: middle;\n",
       "    }\n",
       "\n",
       "    .dataframe tbody tr th {\n",
       "        vertical-align: top;\n",
       "    }\n",
       "\n",
       "    .dataframe thead th {\n",
       "        text-align: right;\n",
       "    }\n",
       "</style>\n",
       "<table border=\"1\" class=\"dataframe\">\n",
       "  <thead>\n",
       "    <tr style=\"text-align: right;\">\n",
       "      <th></th>\n",
       "      <th>owner</th>\n",
       "      <th>type</th>\n",
       "      <th>amount</th>\n",
       "      <th>cap_gains_over_200_usd</th>\n",
       "      <th>time_passed</th>\n",
       "    </tr>\n",
       "  </thead>\n",
       "  <tbody>\n",
       "    <tr>\n",
       "      <th>12609</th>\n",
       "      <td>self</td>\n",
       "      <td>sale_partial</td>\n",
       "      <td>1000</td>\n",
       "      <td>0</td>\n",
       "      <td>8.0</td>\n",
       "    </tr>\n",
       "    <tr>\n",
       "      <th>890</th>\n",
       "      <td>self</td>\n",
       "      <td>purchase</td>\n",
       "      <td>1000</td>\n",
       "      <td>0</td>\n",
       "      <td>9.0</td>\n",
       "    </tr>\n",
       "    <tr>\n",
       "      <th>12687</th>\n",
       "      <td>None</td>\n",
       "      <td>purchase</td>\n",
       "      <td>1000</td>\n",
       "      <td>0</td>\n",
       "      <td>35.0</td>\n",
       "    </tr>\n",
       "    <tr>\n",
       "      <th>7702</th>\n",
       "      <td>None</td>\n",
       "      <td>sale_partial</td>\n",
       "      <td>1000</td>\n",
       "      <td>0</td>\n",
       "      <td>47.0</td>\n",
       "    </tr>\n",
       "    <tr>\n",
       "      <th>7271</th>\n",
       "      <td>dependent</td>\n",
       "      <td>sale_partial</td>\n",
       "      <td>1000</td>\n",
       "      <td>0</td>\n",
       "      <td>246.0</td>\n",
       "    </tr>\n",
       "  </tbody>\n",
       "</table>\n",
       "</div>"
      ],
      "text/plain": [
       "           owner          type  amount  cap_gains_over_200_usd  time_passed\n",
       "12609       self  sale_partial    1000                       0          8.0\n",
       "890         self      purchase    1000                       0          9.0\n",
       "12687       None      purchase    1000                       0         35.0\n",
       "7702        None  sale_partial    1000                       0         47.0\n",
       "7271   dependent  sale_partial    1000                       0        246.0"
      ]
     },
     "execution_count": 87,
     "metadata": {},
     "output_type": "execute_result"
    }
   ],
   "source": [
    "## Setting X and y\n",
    "X = final_data.drop(['party'], axis=1)\n",
    "y = final_data.copy().loc[:, ['party']]\n",
    "y = np.ravel(y)\n",
    "\n",
    "## Train test split\n",
    "X_train,X_test,y_train,y_test=train_test_split\\\n",
    "(X,y,test_size=0.25,random_state=0)\n",
    "X_train.head()"
   ]
  },
  {
   "cell_type": "markdown",
   "metadata": {},
   "source": [
    "### Setting a parameter grid and performing a grid search to find optimal parameter"
   ]
  },
  {
   "cell_type": "code",
   "execution_count": 88,
   "metadata": {},
   "outputs": [
    {
     "data": {
      "text/plain": [
       "GridSearchCV(cv=5,\n",
       "             estimator=Pipeline(steps=[('preprocessor',\n",
       "                                        ColumnTransformer(transformers=[('ohe',\n",
       "                                                                         OneHotEncoder(),\n",
       "                                                                         ['type',\n",
       "                                                                          'owner']),\n",
       "                                                                        ('std',\n",
       "                                                                         StandardScaler(),\n",
       "                                                                         ['amount',\n",
       "                                                                          'time_passed'])])),\n",
       "                                       ('model', KNeighborsClassifier())]),\n",
       "             param_grid={'model__leaf_size': (20, 40, 1),\n",
       "                         'model__n_neighbors': (1, 5, 10, 20, 50),\n",
       "                         'model__p': (1, 2),\n",
       "                         'model__weights': ('uniform', 'distance')})"
      ]
     },
     "execution_count": 88,
     "metadata": {},
     "output_type": "execute_result"
    }
   ],
   "source": [
    "## Grid of parameters to be fed into gridsearchCV\n",
    "hyperparameters = {\n",
    "    'model__n_neighbors': (1,5,10,20,50),\n",
    "    'model__leaf_size': (20,40,1),\n",
    "    'model__p': (1,2),\n",
    "    'model__weights': ('uniform', 'distance')\n",
    "}\n",
    "\n",
    "## setting a gridsearch with 5 folds\n",
    "searcher = GridSearchCV(pl, hyperparameters, cv=5)\n",
    "\n",
    "searcher.fit(X_train, y_train)"
   ]
  },
  {
   "cell_type": "markdown",
   "metadata": {},
   "source": [
    "### Best Hyperparameters"
   ]
  },
  {
   "cell_type": "code",
   "execution_count": 89,
   "metadata": {},
   "outputs": [
    {
     "name": "stdout",
     "output_type": "stream",
     "text": [
      "Best Hyperparameters: {'model__leaf_size': 20, 'model__n_neighbors': 50, 'model__p': 1, 'model__weights': 'distance'}\n"
     ]
    }
   ],
   "source": [
    "print('Best Hyperparameters: %s' % searcher.best_params_)"
   ]
  },
  {
   "cell_type": "markdown",
   "metadata": {},
   "source": [
    "### Making predictions on the data and getting back metrics"
   ]
  },
  {
   "cell_type": "code",
   "execution_count": 90,
   "metadata": {},
   "outputs": [
    {
     "data": {
      "text/html": [
       "<div>\n",
       "<style scoped>\n",
       "    .dataframe tbody tr th:only-of-type {\n",
       "        vertical-align: middle;\n",
       "    }\n",
       "\n",
       "    .dataframe tbody tr th {\n",
       "        vertical-align: top;\n",
       "    }\n",
       "\n",
       "    .dataframe thead th {\n",
       "        text-align: right;\n",
       "    }\n",
       "</style>\n",
       "<table border=\"1\" class=\"dataframe\">\n",
       "  <thead>\n",
       "    <tr style=\"text-align: right;\">\n",
       "      <th></th>\n",
       "      <th>Accuracy</th>\n",
       "      <th>Precision</th>\n",
       "      <th>Recall</th>\n",
       "    </tr>\n",
       "  </thead>\n",
       "  <tbody>\n",
       "    <tr>\n",
       "      <th>K-Nearest Neighbors</th>\n",
       "      <td>0.803602</td>\n",
       "      <td>0.640675</td>\n",
       "      <td>0.760496</td>\n",
       "    </tr>\n",
       "  </tbody>\n",
       "</table>\n",
       "</div>"
      ],
      "text/plain": [
       "                     Accuracy  Precision    Recall\n",
       "K-Nearest Neighbors  0.803602   0.640675  0.760496"
      ]
     },
     "execution_count": 90,
     "metadata": {},
     "output_type": "execute_result"
    }
   ],
   "source": [
    "from sklearn.metrics import accuracy_score, precision_score, recall_score\n",
    "\n",
    "## Making predictions on X_test\n",
    "predictions = searcher.predict(X_test)\n",
    "\n",
    "## Here I created a small dataframe that contains \n",
    "## the models Accuracy, Precision, and Recall score\n",
    "df_final = pd.DataFrame(index = ['K-Nearest Neighbors'], \\\n",
    "                        columns=['Accuracy', 'Precision', 'Recall'])\n",
    "df_final['Accuracy'] = accuracy_score(predictions, y_test)\n",
    "df_final['Precision'] = precision_score(predictions, y_test)\n",
    "df_final['Recall'] = recall_score(predictions, y_test)\n",
    "df_final"
   ]
  },
  {
   "cell_type": "markdown",
   "metadata": {},
   "source": [
    "### Confusion matrix to visualize Positives and Negatives"
   ]
  },
  {
   "cell_type": "code",
   "execution_count": 91,
   "metadata": {},
   "outputs": [
    {
     "data": {
      "image/png": "[encoded data removed]",
      "text/plain": [
       "<Figure size 432x288 with 2 Axes>"
      ]
     },
     "metadata": {
      "image/png": {
       "height": 261,
       "width": 328
      },
      "needs_background": "light"
     },
     "output_type": "display_data"
    }
   ],
   "source": [
    "from sklearn import metrics\n",
    "\n",
    "metrics.plot_confusion_matrix(searcher, X_test, y_test);"
   ]
  },
  {
   "cell_type": "markdown",
   "metadata": {},
   "source": [
    "### How well can our model generalize to unseen data using K-Folds cross validation?"
   ]
  },
  {
   "cell_type": "code",
   "execution_count": 92,
   "metadata": {},
   "outputs": [
    {
     "name": "stdout",
     "output_type": "stream",
     "text": [
      "Average Cross Validation score :0.7896063292018833\n"
     ]
    }
   ],
   "source": [
    "## creating a K fold cross validation with 5 folds\n",
    "kf=KFold(n_splits=5, shuffle=True)\n",
    "score=cross_val_score(searcher, X_train, y_train,cv=kf)\n",
    "\n",
    "print(\"Average Cross Validation score :{}\".format(score.mean()))"
   ]
  },
  {
   "cell_type": "markdown",
   "metadata": {},
   "source": [
    "# Fairness Analysis"
   ]
  },
  {
   "cell_type": "markdown",
   "metadata": {},
   "source": [
    "### Creating a results dataframe to run our Fairness analysis"
   ]
  },
  {
   "cell_type": "code",
   "execution_count": 93,
   "metadata": {},
   "outputs": [
    {
     "data": {
      "text/html": [
       "<div>\n",
       "<style scoped>\n",
       "    .dataframe tbody tr th:only-of-type {\n",
       "        vertical-align: middle;\n",
       "    }\n",
       "\n",
       "    .dataframe tbody tr th {\n",
       "        vertical-align: top;\n",
       "    }\n",
       "\n",
       "    .dataframe thead th {\n",
       "        text-align: right;\n",
       "    }\n",
       "</style>\n",
       "<table border=\"1\" class=\"dataframe\">\n",
       "  <thead>\n",
       "    <tr style=\"text-align: right;\">\n",
       "      <th></th>\n",
       "      <th>owner</th>\n",
       "      <th>type</th>\n",
       "      <th>amount</th>\n",
       "      <th>cap_gains_over_200_usd</th>\n",
       "      <th>time_passed</th>\n",
       "      <th>prediction</th>\n",
       "      <th>y_test</th>\n",
       "    </tr>\n",
       "  </thead>\n",
       "  <tbody>\n",
       "    <tr>\n",
       "      <th>12536</th>\n",
       "      <td>joint</td>\n",
       "      <td>sale_full</td>\n",
       "      <td>1000</td>\n",
       "      <td>0</td>\n",
       "      <td>21.0</td>\n",
       "      <td>0.0</td>\n",
       "      <td>0.0</td>\n",
       "    </tr>\n",
       "    <tr>\n",
       "      <th>1094</th>\n",
       "      <td>None</td>\n",
       "      <td>sale_full</td>\n",
       "      <td>1000</td>\n",
       "      <td>1</td>\n",
       "      <td>27.0</td>\n",
       "      <td>0.0</td>\n",
       "      <td>1.0</td>\n",
       "    </tr>\n",
       "    <tr>\n",
       "      <th>2207</th>\n",
       "      <td>joint</td>\n",
       "      <td>sale_partial</td>\n",
       "      <td>1000</td>\n",
       "      <td>0</td>\n",
       "      <td>15.0</td>\n",
       "      <td>0.0</td>\n",
       "      <td>0.0</td>\n",
       "    </tr>\n",
       "    <tr>\n",
       "      <th>12189</th>\n",
       "      <td>joint</td>\n",
       "      <td>sale_partial</td>\n",
       "      <td>1000</td>\n",
       "      <td>0</td>\n",
       "      <td>11.0</td>\n",
       "      <td>0.0</td>\n",
       "      <td>0.0</td>\n",
       "    </tr>\n",
       "    <tr>\n",
       "      <th>14203</th>\n",
       "      <td>joint</td>\n",
       "      <td>sale_full</td>\n",
       "      <td>1000</td>\n",
       "      <td>0</td>\n",
       "      <td>23.0</td>\n",
       "      <td>0.0</td>\n",
       "      <td>1.0</td>\n",
       "    </tr>\n",
       "  </tbody>\n",
       "</table>\n",
       "</div>"
      ],
      "text/plain": [
       "       owner          type  amount  cap_gains_over_200_usd  time_passed  \\\n",
       "12536  joint     sale_full    1000                       0         21.0   \n",
       "1094    None     sale_full    1000                       1         27.0   \n",
       "2207   joint  sale_partial    1000                       0         15.0   \n",
       "12189  joint  sale_partial    1000                       0         11.0   \n",
       "14203  joint     sale_full    1000                       0         23.0   \n",
       "\n",
       "       prediction  y_test  \n",
       "12536         0.0     0.0  \n",
       "1094          0.0     1.0  \n",
       "2207          0.0     0.0  \n",
       "12189         0.0     0.0  \n",
       "14203         0.0     1.0  "
      ]
     },
     "execution_count": 93,
     "metadata": {},
     "output_type": "execute_result"
    }
   ],
   "source": [
    "fairness_data = X_test.copy()\n",
    "fairness_data['prediction'] = predictions\n",
    "fairness_data['y_test'] = y_test\n",
    "fairness_data.head()"
   ]
  },
  {
   "cell_type": "markdown",
   "metadata": {},
   "source": [
    "### Here we binarize our amount traded feature with a threshold of 1 million dollars in stock purchased"
   ]
  },
  {
   "cell_type": "code",
   "execution_count": 94,
   "metadata": {},
   "outputs": [],
   "source": [
    "fairness_data['purchase_size'] = (fairness_data.amount < 1000000)\\\n",
    ".replace({True: 'Small_purchase', False: 'Big_purchase'})"
   ]
  },
  {
   "cell_type": "markdown",
   "metadata": {},
   "source": [
    "### Our observed difference in accuracy between our predicted political parties and our given political parties"
   ]
  },
  {
   "cell_type": "code",
   "execution_count": 95,
   "metadata": {},
   "outputs": [
    {
     "data": {
      "text/plain": [
       "-0.00893866591294512"
      ]
     },
     "execution_count": 95,
     "metadata": {},
     "output_type": "execute_result"
    }
   ],
   "source": [
    "observed = fairness_data.groupby('purchase_size')\\\n",
    ".apply(lambda x: metrics.accuracy_score(x['y_test'],\\\n",
    "                                        x['prediction'])).diff().iloc[-1]\n",
    "observed"
   ]
  },
  {
   "cell_type": "markdown",
   "metadata": {},
   "source": [
    "### Here we perform a simulation a 1000 times to get the difference in accuracy between our known data and the predicted data"
   ]
  },
  {
   "cell_type": "code",
   "execution_count": 96,
   "metadata": {},
   "outputs": [],
   "source": [
    "## initialize array to append difference in accuracies\n",
    "diff_in_acc = []\n",
    "for i in range(1000):\n",
    "    s = (\n",
    "        fairness_data[['purchase_size', 'prediction', 'y_test']]\n",
    "        .assign(purchase_size=fairness_data.purchase_size\\\n",
    "                .sample(frac=1.0, replace=False).reset_index(drop=True))\n",
    "        .groupby('purchase_size')\n",
    "        .apply(lambda x: metrics.accuracy_score(x['y_test'], x['prediction']))\n",
    "        .diff()\n",
    "        .iloc[-1]\n",
    "    )\n",
    "    \n",
    "    diff_in_acc.append(s)"
   ]
  },
  {
   "cell_type": "markdown",
   "metadata": {},
   "source": [
    "### Plotting our simulation"
   ]
  },
  {
   "cell_type": "code",
   "execution_count": 97,
   "metadata": {},
   "outputs": [
    {
     "data": {
      "image/png": "[encoded data removed]",
      "text/plain": [
       "<Figure size 720x360 with 1 Axes>"
      ]
     },
     "metadata": {
      "image/png": {
       "height": 318,
       "width": 605
      },
      "needs_background": "light"
     },
     "output_type": "display_data"
    }
   ],
   "source": [
    "plt.figure(figsize=(10, 5))\n",
    "pd.Series(diff_in_acc).plot\\\n",
    "(kind='hist', ec='w', density=True, bins=30, \\\n",
    " title='Difference in Accuracy (Big Purchases vs Small Purchases)', \\\n",
    " label='distribution in difference of accuracies')\n",
    "plt.axvline(x=observed, color='red', label='observed difference in accuracy')\n",
    "plt.legend(loc='upper right');"
   ]
  },
  {
   "cell_type": "markdown",
   "metadata": {},
   "source": [
    "### Calculating P-Value"
   ]
  },
  {
   "cell_type": "code",
   "execution_count": 98,
   "metadata": {},
   "outputs": [
    {
     "data": {
      "text/plain": [
       "0.451"
      ]
     },
     "execution_count": 98,
     "metadata": {},
     "output_type": "execute_result"
    }
   ],
   "source": [
    "pvalue = (np.array(diff_in_acc) >= observed).mean()\n",
    "pvalue"
   ]
  },
  {
   "cell_type": "markdown",
   "metadata": {},
   "source": [
    "# Thank you for reading!"
   ]
  }
 ],
 "metadata": {
  "kernelspec": {
   "display_name": "Python 3",
   "language": "python",
   "name": "python3"
  },
  "language_info": {
   "codemirror_mode": {
    "name": "ipython",
    "version": 3
   },
   "file_extension": ".py",
   "mimetype": "text/x-python",
   "name": "python",
   "nbconvert_exporter": "python",
   "pygments_lexer": "ipython3",
   "version": "3.8.5"
  }
 },
 "nbformat": 4,
 "nbformat_minor": 2
}
